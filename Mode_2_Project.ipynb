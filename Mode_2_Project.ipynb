{
 "cells": [
  {
   "cell_type": "markdown",
   "metadata": {},
   "source": [
    "# Can Happiness be Predicted?"
   ]
  },
  {
   "cell_type": "code",
   "execution_count": 1,
   "metadata": {},
   "outputs": [],
   "source": [
    "import pandas as pd\n",
    "import matplotlib.pyplot as plt\n",
    "import missingno as msno\n",
    "import seaborn as sns\n",
    "import numpy as np\n",
    "import statsmodels.formula.api as smf\n",
    "from statsmodels.graphics.gofplots import ProbPlot"
   ]
  },
  {
   "cell_type": "code",
   "execution_count": 2,
   "metadata": {},
   "outputs": [],
   "source": [
    "df= pd.read_csv(\"2017.csv\")  #reading the world happiness report"
   ]
  },
  {
   "cell_type": "code",
   "execution_count": 3,
   "metadata": {},
   "outputs": [],
   "source": [
    "cols= ['Country','Happiness.Rank','Happiness.Score'] #taking out the name of the country,rank and score"
   ]
  },
  {
   "cell_type": "code",
   "execution_count": 4,
   "metadata": {
    "scrolled": true
   },
   "outputs": [
    {
     "data": {
      "text/html": [
       "<div>\n",
       "<style scoped>\n",
       "    .dataframe tbody tr th:only-of-type {\n",
       "        vertical-align: middle;\n",
       "    }\n",
       "\n",
       "    .dataframe tbody tr th {\n",
       "        vertical-align: top;\n",
       "    }\n",
       "\n",
       "    .dataframe thead th {\n",
       "        text-align: right;\n",
       "    }\n",
       "</style>\n",
       "<table border=\"1\" class=\"dataframe\">\n",
       "  <thead>\n",
       "    <tr style=\"text-align: right;\">\n",
       "      <th></th>\n",
       "      <th>Country</th>\n",
       "      <th>Happiness.Rank</th>\n",
       "      <th>Happiness.Score</th>\n",
       "    </tr>\n",
       "  </thead>\n",
       "  <tbody>\n",
       "    <tr>\n",
       "      <th>0</th>\n",
       "      <td>Norway</td>\n",
       "      <td>1</td>\n",
       "      <td>7.537</td>\n",
       "    </tr>\n",
       "    <tr>\n",
       "      <th>1</th>\n",
       "      <td>Denmark</td>\n",
       "      <td>2</td>\n",
       "      <td>7.522</td>\n",
       "    </tr>\n",
       "  </tbody>\n",
       "</table>\n",
       "</div>"
      ],
      "text/plain": [
       "   Country  Happiness.Rank  Happiness.Score\n",
       "0   Norway               1            7.537\n",
       "1  Denmark               2            7.522"
      ]
     },
     "execution_count": 4,
     "metadata": {},
     "output_type": "execute_result"
    }
   ],
   "source": [
    "df = df[cols] #creating new dataframe for the three columns\n",
    "df.head(2)"
   ]
  },
  {
   "cell_type": "code",
   "execution_count": 5,
   "metadata": {},
   "outputs": [
    {
     "data": {
      "text/html": [
       "<div>\n",
       "<style scoped>\n",
       "    .dataframe tbody tr th:only-of-type {\n",
       "        vertical-align: middle;\n",
       "    }\n",
       "\n",
       "    .dataframe tbody tr th {\n",
       "        vertical-align: top;\n",
       "    }\n",
       "\n",
       "    .dataframe thead th {\n",
       "        text-align: right;\n",
       "    }\n",
       "</style>\n",
       "<table border=\"1\" class=\"dataframe\">\n",
       "  <thead>\n",
       "    <tr style=\"text-align: right;\">\n",
       "      <th></th>\n",
       "      <th>Country</th>\n",
       "      <th>Region</th>\n",
       "      <th>Population</th>\n",
       "      <th>Area (sq. mi.)</th>\n",
       "      <th>Pop. Density (per sq. mi.)</th>\n",
       "      <th>Coastline (coast/area ratio)</th>\n",
       "      <th>Net migration</th>\n",
       "      <th>Infant mortality (per 1000 births)</th>\n",
       "      <th>GDP ($ per capita)</th>\n",
       "      <th>Literacy (%)</th>\n",
       "      <th>Phones (per 1000)</th>\n",
       "      <th>Arable (%)</th>\n",
       "      <th>Crops (%)</th>\n",
       "      <th>Other (%)</th>\n",
       "      <th>Climate</th>\n",
       "      <th>Birthrate</th>\n",
       "      <th>Deathrate</th>\n",
       "      <th>Agriculture</th>\n",
       "      <th>Industry</th>\n",
       "      <th>Service</th>\n",
       "    </tr>\n",
       "  </thead>\n",
       "  <tbody>\n",
       "    <tr>\n",
       "      <th>0</th>\n",
       "      <td>Afghanistan</td>\n",
       "      <td>ASIA (EX. NEAR EAST)</td>\n",
       "      <td>31056997</td>\n",
       "      <td>647500</td>\n",
       "      <td>48,0</td>\n",
       "      <td>0,00</td>\n",
       "      <td>23,06</td>\n",
       "      <td>163,07</td>\n",
       "      <td>700.0</td>\n",
       "      <td>36,0</td>\n",
       "      <td>3,2</td>\n",
       "      <td>12,13</td>\n",
       "      <td>0,22</td>\n",
       "      <td>87,65</td>\n",
       "      <td>1</td>\n",
       "      <td>46,6</td>\n",
       "      <td>20,34</td>\n",
       "      <td>0,38</td>\n",
       "      <td>0,24</td>\n",
       "      <td>0,38</td>\n",
       "    </tr>\n",
       "    <tr>\n",
       "      <th>1</th>\n",
       "      <td>Albania</td>\n",
       "      <td>EASTERN EUROPE</td>\n",
       "      <td>3581655</td>\n",
       "      <td>28748</td>\n",
       "      <td>124,6</td>\n",
       "      <td>1,26</td>\n",
       "      <td>-4,93</td>\n",
       "      <td>21,52</td>\n",
       "      <td>4500.0</td>\n",
       "      <td>86,5</td>\n",
       "      <td>71,2</td>\n",
       "      <td>21,09</td>\n",
       "      <td>4,42</td>\n",
       "      <td>74,49</td>\n",
       "      <td>3</td>\n",
       "      <td>15,11</td>\n",
       "      <td>5,22</td>\n",
       "      <td>0,232</td>\n",
       "      <td>0,188</td>\n",
       "      <td>0,579</td>\n",
       "    </tr>\n",
       "  </tbody>\n",
       "</table>\n",
       "</div>"
      ],
      "text/plain": [
       "        Country                               Region  Population  \\\n",
       "0  Afghanistan         ASIA (EX. NEAR EAST)             31056997   \n",
       "1      Albania   EASTERN EUROPE                          3581655   \n",
       "\n",
       "   Area (sq. mi.) Pop. Density (per sq. mi.) Coastline (coast/area ratio)  \\\n",
       "0          647500                       48,0                         0,00   \n",
       "1           28748                      124,6                         1,26   \n",
       "\n",
       "  Net migration Infant mortality (per 1000 births)  GDP ($ per capita)  \\\n",
       "0         23,06                             163,07               700.0   \n",
       "1         -4,93                              21,52              4500.0   \n",
       "\n",
       "  Literacy (%) Phones (per 1000) Arable (%) Crops (%) Other (%) Climate  \\\n",
       "0         36,0               3,2      12,13      0,22     87,65       1   \n",
       "1         86,5              71,2      21,09      4,42     74,49       3   \n",
       "\n",
       "  Birthrate Deathrate Agriculture Industry Service  \n",
       "0      46,6     20,34        0,38     0,24    0,38  \n",
       "1     15,11      5,22       0,232    0,188   0,579  "
      ]
     },
     "execution_count": 5,
     "metadata": {},
     "output_type": "execute_result"
    }
   ],
   "source": [
    "df_world = pd.read_csv(\"countries of the world.csv\") #reading additional information regarding countries from the world bank report\n",
    "df_world.head(2)"
   ]
  },
  {
   "cell_type": "code",
   "execution_count": 6,
   "metadata": {
    "scrolled": true
   },
   "outputs": [],
   "source": [
    "#droping some columns out\n",
    "df_world= df_world.drop(columns=['Arable (%)','Crops (%)','Other (%)'])"
   ]
  },
  {
   "cell_type": "code",
   "execution_count": 7,
   "metadata": {},
   "outputs": [],
   "source": [
    "#Although the country names in the dataframes are written in identical ways, some of them have \"space\" gaps\n",
    "# I am using the str.strip() function to close space gaps either bofore or after the country name\n",
    "df_world['Country'] = df_world['Country'].str.strip()\n",
    "df['Country']=df['Country'].str.strip()"
   ]
  },
  {
   "cell_type": "code",
   "execution_count": 8,
   "metadata": {},
   "outputs": [
    {
     "data": {
      "text/html": [
       "<div>\n",
       "<style scoped>\n",
       "    .dataframe tbody tr th:only-of-type {\n",
       "        vertical-align: middle;\n",
       "    }\n",
       "\n",
       "    .dataframe tbody tr th {\n",
       "        vertical-align: top;\n",
       "    }\n",
       "\n",
       "    .dataframe thead th {\n",
       "        text-align: right;\n",
       "    }\n",
       "</style>\n",
       "<table border=\"1\" class=\"dataframe\">\n",
       "  <thead>\n",
       "    <tr style=\"text-align: right;\">\n",
       "      <th></th>\n",
       "      <th>Country</th>\n",
       "      <th>Happiness.Rank</th>\n",
       "      <th>Happiness.Score</th>\n",
       "      <th>Region</th>\n",
       "      <th>Population</th>\n",
       "      <th>Area (sq. mi.)</th>\n",
       "      <th>Pop. Density (per sq. mi.)</th>\n",
       "      <th>Coastline (coast/area ratio)</th>\n",
       "      <th>Net migration</th>\n",
       "      <th>Infant mortality (per 1000 births)</th>\n",
       "      <th>GDP ($ per capita)</th>\n",
       "      <th>Literacy (%)</th>\n",
       "      <th>Phones (per 1000)</th>\n",
       "      <th>Climate</th>\n",
       "      <th>Birthrate</th>\n",
       "      <th>Deathrate</th>\n",
       "      <th>Agriculture</th>\n",
       "      <th>Industry</th>\n",
       "      <th>Service</th>\n",
       "    </tr>\n",
       "  </thead>\n",
       "  <tbody>\n",
       "    <tr>\n",
       "      <th>0</th>\n",
       "      <td>Norway</td>\n",
       "      <td>1</td>\n",
       "      <td>7.537</td>\n",
       "      <td>WESTERN EUROPE</td>\n",
       "      <td>4610820</td>\n",
       "      <td>323802</td>\n",
       "      <td>14,2</td>\n",
       "      <td>7,77</td>\n",
       "      <td>1,74</td>\n",
       "      <td>3,7</td>\n",
       "      <td>37800.0</td>\n",
       "      <td>100,0</td>\n",
       "      <td>461,7</td>\n",
       "      <td>3</td>\n",
       "      <td>11,46</td>\n",
       "      <td>9,4</td>\n",
       "      <td>0,021</td>\n",
       "      <td>0,415</td>\n",
       "      <td>0,564</td>\n",
       "    </tr>\n",
       "    <tr>\n",
       "      <th>1</th>\n",
       "      <td>Denmark</td>\n",
       "      <td>2</td>\n",
       "      <td>7.522</td>\n",
       "      <td>WESTERN EUROPE</td>\n",
       "      <td>5450661</td>\n",
       "      <td>43094</td>\n",
       "      <td>126,5</td>\n",
       "      <td>16,97</td>\n",
       "      <td>2,48</td>\n",
       "      <td>4,56</td>\n",
       "      <td>31100.0</td>\n",
       "      <td>100,0</td>\n",
       "      <td>614,6</td>\n",
       "      <td>3</td>\n",
       "      <td>11,13</td>\n",
       "      <td>10,36</td>\n",
       "      <td>0,018</td>\n",
       "      <td>0,246</td>\n",
       "      <td>0,735</td>\n",
       "    </tr>\n",
       "  </tbody>\n",
       "</table>\n",
       "</div>"
      ],
      "text/plain": [
       "   Country  Happiness.Rank  Happiness.Score  \\\n",
       "0   Norway               1            7.537   \n",
       "1  Denmark               2            7.522   \n",
       "\n",
       "                                Region  Population  Area (sq. mi.)  \\\n",
       "0  WESTERN EUROPE                          4610820          323802   \n",
       "1  WESTERN EUROPE                          5450661           43094   \n",
       "\n",
       "  Pop. Density (per sq. mi.) Coastline (coast/area ratio) Net migration  \\\n",
       "0                       14,2                         7,77          1,74   \n",
       "1                      126,5                        16,97          2,48   \n",
       "\n",
       "  Infant mortality (per 1000 births)  GDP ($ per capita) Literacy (%)  \\\n",
       "0                                3,7             37800.0        100,0   \n",
       "1                               4,56             31100.0        100,0   \n",
       "\n",
       "  Phones (per 1000) Climate Birthrate Deathrate Agriculture Industry Service  \n",
       "0             461,7       3     11,46       9,4       0,021    0,415   0,564  \n",
       "1             614,6       3     11,13     10,36       0,018    0,246   0,735  "
      ]
     },
     "execution_count": 8,
     "metadata": {},
     "output_type": "execute_result"
    }
   ],
   "source": [
    "#merging the two dataframe based on the country name\n",
    "df_happy = df.merge(df_world,on=['Country'], how='inner')\n",
    "df_happy.head(2)"
   ]
  },
  {
   "cell_type": "code",
   "execution_count": 9,
   "metadata": {},
   "outputs": [],
   "source": [
    "#replacing ',' in '.' and changing strings into floats\n",
    "cols= df_happy.columns\n",
    "for col in cols:\n",
    "    try: \n",
    "        df_happy[col]= df_happy[col].str.replace(',','.')\n",
    "        df_happy[col]= df_happy[col].astype(float)\n",
    "    except:\n",
    "        pass"
   ]
  },
  {
   "cell_type": "code",
   "execution_count": 10,
   "metadata": {},
   "outputs": [
    {
     "data": {
      "image/png": "[encoded data removed]",
      "text/plain": [
       "<Figure size 1800x720 with 2 Axes>"
      ]
     },
     "metadata": {
      "needs_background": "light"
     },
     "output_type": "display_data"
    }
   ],
   "source": [
    "#checing visually to null values\n",
    "%matplotlib inline\n",
    "msno.matrix(df_happy);"
   ]
  },
  {
   "cell_type": "code",
   "execution_count": 11,
   "metadata": {},
   "outputs": [
    {
     "data": {
      "text/html": [
       "<div>\n",
       "<style scoped>\n",
       "    .dataframe tbody tr th:only-of-type {\n",
       "        vertical-align: middle;\n",
       "    }\n",
       "\n",
       "    .dataframe tbody tr th {\n",
       "        vertical-align: top;\n",
       "    }\n",
       "\n",
       "    .dataframe thead th {\n",
       "        text-align: right;\n",
       "    }\n",
       "</style>\n",
       "<table border=\"1\" class=\"dataframe\">\n",
       "  <thead>\n",
       "    <tr style=\"text-align: right;\">\n",
       "      <th></th>\n",
       "      <th>Country</th>\n",
       "      <th>Happiness.Rank</th>\n",
       "      <th>Happiness.Score</th>\n",
       "      <th>Region</th>\n",
       "      <th>Population</th>\n",
       "      <th>Area (sq. mi.)</th>\n",
       "      <th>Pop. Density (per sq. mi.)</th>\n",
       "      <th>Coastline (coast/area ratio)</th>\n",
       "      <th>Net migration</th>\n",
       "      <th>Infant mortality (per 1000 births)</th>\n",
       "      <th>GDP ($ per capita)</th>\n",
       "      <th>Literacy (%)</th>\n",
       "      <th>Phones (per 1000)</th>\n",
       "      <th>Climate</th>\n",
       "      <th>Birthrate</th>\n",
       "      <th>Deathrate</th>\n",
       "      <th>Agriculture</th>\n",
       "      <th>Industry</th>\n",
       "      <th>Service</th>\n",
       "    </tr>\n",
       "  </thead>\n",
       "  <tbody>\n",
       "    <tr>\n",
       "      <th>37</th>\n",
       "      <td>Slovakia</td>\n",
       "      <td>40</td>\n",
       "      <td>6.098</td>\n",
       "      <td>EASTERN EUROPE</td>\n",
       "      <td>5439448</td>\n",
       "      <td>48845</td>\n",
       "      <td>111.4</td>\n",
       "      <td>0.0</td>\n",
       "      <td>0.30</td>\n",
       "      <td>7.41</td>\n",
       "      <td>13300.0</td>\n",
       "      <td>NaN</td>\n",
       "      <td>220.1</td>\n",
       "      <td>3.0</td>\n",
       "      <td>10.65</td>\n",
       "      <td>9.45</td>\n",
       "      <td>0.035</td>\n",
       "      <td>0.294</td>\n",
       "      <td>0.672</td>\n",
       "    </tr>\n",
       "    <tr>\n",
       "      <th>83</th>\n",
       "      <td>Macedonia</td>\n",
       "      <td>92</td>\n",
       "      <td>5.175</td>\n",
       "      <td>EASTERN EUROPE</td>\n",
       "      <td>2050554</td>\n",
       "      <td>25333</td>\n",
       "      <td>80.9</td>\n",
       "      <td>0.0</td>\n",
       "      <td>-1.45</td>\n",
       "      <td>10.09</td>\n",
       "      <td>6700.0</td>\n",
       "      <td>NaN</td>\n",
       "      <td>260.0</td>\n",
       "      <td>3.0</td>\n",
       "      <td>12.02</td>\n",
       "      <td>8.77</td>\n",
       "      <td>0.118</td>\n",
       "      <td>0.319</td>\n",
       "      <td>0.563</td>\n",
       "    </tr>\n",
       "  </tbody>\n",
       "</table>\n",
       "</div>"
      ],
      "text/plain": [
       "      Country  Happiness.Rank  Happiness.Score  \\\n",
       "37   Slovakia              40            6.098   \n",
       "83  Macedonia              92            5.175   \n",
       "\n",
       "                                 Region  Population  Area (sq. mi.)  \\\n",
       "37  EASTERN EUROPE                          5439448           48845   \n",
       "83  EASTERN EUROPE                          2050554           25333   \n",
       "\n",
       "    Pop. Density (per sq. mi.)  Coastline (coast/area ratio)  Net migration  \\\n",
       "37                       111.4                           0.0           0.30   \n",
       "83                        80.9                           0.0          -1.45   \n",
       "\n",
       "    Infant mortality (per 1000 births)  GDP ($ per capita)  Literacy (%)  \\\n",
       "37                                7.41             13300.0           NaN   \n",
       "83                               10.09              6700.0           NaN   \n",
       "\n",
       "    Phones (per 1000)  Climate  Birthrate  Deathrate  Agriculture  Industry  \\\n",
       "37              220.1      3.0      10.65       9.45        0.035     0.294   \n",
       "83              260.0      3.0      12.02       8.77        0.118     0.319   \n",
       "\n",
       "    Service  \n",
       "37    0.672  \n",
       "83    0.563  "
      ]
     },
     "execution_count": 11,
     "metadata": {},
     "output_type": "execute_result"
    }
   ],
   "source": [
    "df_happy[df_happy['Literacy (%)'].isnull()] #checking details of null values"
   ]
  },
  {
   "cell_type": "code",
   "execution_count": 12,
   "metadata": {},
   "outputs": [],
   "source": [
    "#update manualy from online sources\n",
    "df_happy.at[83, 'Literacy (%)']=97.8 # based on https://www.indexmundi.com/macedonia/literacy.html\n",
    "df_happy.at[37, 'Literacy (%)']=99.6 #https://knoema.com/atlas/Slovakia/topics/Education/Literacy/Adult-literacy-rate"
   ]
  },
  {
   "cell_type": "code",
   "execution_count": 13,
   "metadata": {},
   "outputs": [
    {
     "data": {
      "text/html": [
       "<div>\n",
       "<style scoped>\n",
       "    .dataframe tbody tr th:only-of-type {\n",
       "        vertical-align: middle;\n",
       "    }\n",
       "\n",
       "    .dataframe tbody tr th {\n",
       "        vertical-align: top;\n",
       "    }\n",
       "\n",
       "    .dataframe thead th {\n",
       "        text-align: right;\n",
       "    }\n",
       "</style>\n",
       "<table border=\"1\" class=\"dataframe\">\n",
       "  <thead>\n",
       "    <tr style=\"text-align: right;\">\n",
       "      <th></th>\n",
       "      <th>Country</th>\n",
       "      <th>Happiness.Rank</th>\n",
       "      <th>Happiness.Score</th>\n",
       "      <th>Region</th>\n",
       "      <th>Population</th>\n",
       "      <th>Area (sq. mi.)</th>\n",
       "      <th>Pop. Density (per sq. mi.)</th>\n",
       "      <th>Coastline (coast/area ratio)</th>\n",
       "      <th>Net migration</th>\n",
       "      <th>Infant mortality (per 1000 births)</th>\n",
       "      <th>GDP ($ per capita)</th>\n",
       "      <th>Literacy (%)</th>\n",
       "      <th>Phones (per 1000)</th>\n",
       "      <th>Climate</th>\n",
       "      <th>Birthrate</th>\n",
       "      <th>Deathrate</th>\n",
       "      <th>Agriculture</th>\n",
       "      <th>Industry</th>\n",
       "      <th>Service</th>\n",
       "    </tr>\n",
       "  </thead>\n",
       "  <tbody>\n",
       "    <tr>\n",
       "      <th>60</th>\n",
       "      <td>Cyprus</td>\n",
       "      <td>65</td>\n",
       "      <td>5.621</td>\n",
       "      <td>NEAR EAST</td>\n",
       "      <td>784301</td>\n",
       "      <td>9250</td>\n",
       "      <td>84.8</td>\n",
       "      <td>7.01</td>\n",
       "      <td>0.43</td>\n",
       "      <td>7.18</td>\n",
       "      <td>19200.0</td>\n",
       "      <td>97.6</td>\n",
       "      <td>NaN</td>\n",
       "      <td>3.0</td>\n",
       "      <td>12.56</td>\n",
       "      <td>7.68</td>\n",
       "      <td>0.037</td>\n",
       "      <td>0.198</td>\n",
       "      <td>0.765</td>\n",
       "    </tr>\n",
       "  </tbody>\n",
       "</table>\n",
       "</div>"
      ],
      "text/plain": [
       "   Country  Happiness.Rank  Happiness.Score  \\\n",
       "60  Cyprus              65            5.621   \n",
       "\n",
       "                                 Region  Population  Area (sq. mi.)  \\\n",
       "60  NEAR EAST                                784301            9250   \n",
       "\n",
       "    Pop. Density (per sq. mi.)  Coastline (coast/area ratio)  Net migration  \\\n",
       "60                        84.8                          7.01           0.43   \n",
       "\n",
       "    Infant mortality (per 1000 births)  GDP ($ per capita)  Literacy (%)  \\\n",
       "60                                7.18             19200.0          97.6   \n",
       "\n",
       "    Phones (per 1000)  Climate  Birthrate  Deathrate  Agriculture  Industry  \\\n",
       "60                NaN      3.0      12.56       7.68        0.037     0.198   \n",
       "\n",
       "    Service  \n",
       "60    0.765  "
      ]
     },
     "execution_count": 13,
     "metadata": {},
     "output_type": "execute_result"
    }
   ],
   "source": [
    "df_happy[df_happy['Phones (per 1000)'].isnull()]"
   ]
  },
  {
   "cell_type": "code",
   "execution_count": 14,
   "metadata": {},
   "outputs": [
    {
     "data": {
      "text/html": [
       "<div>\n",
       "<style scoped>\n",
       "    .dataframe tbody tr th:only-of-type {\n",
       "        vertical-align: middle;\n",
       "    }\n",
       "\n",
       "    .dataframe tbody tr th {\n",
       "        vertical-align: top;\n",
       "    }\n",
       "\n",
       "    .dataframe thead th {\n",
       "        text-align: right;\n",
       "    }\n",
       "</style>\n",
       "<table border=\"1\" class=\"dataframe\">\n",
       "  <thead>\n",
       "    <tr style=\"text-align: right;\">\n",
       "      <th></th>\n",
       "      <th>Country</th>\n",
       "      <th>Happiness.Rank</th>\n",
       "      <th>Happiness.Score</th>\n",
       "      <th>Region</th>\n",
       "      <th>Population</th>\n",
       "      <th>Area (sq. mi.)</th>\n",
       "      <th>Pop. Density (per sq. mi.)</th>\n",
       "      <th>Coastline (coast/area ratio)</th>\n",
       "      <th>Net migration</th>\n",
       "      <th>Infant mortality (per 1000 births)</th>\n",
       "      <th>GDP ($ per capita)</th>\n",
       "      <th>Literacy (%)</th>\n",
       "      <th>Phones (per 1000)</th>\n",
       "      <th>Climate</th>\n",
       "      <th>Birthrate</th>\n",
       "      <th>Deathrate</th>\n",
       "      <th>Agriculture</th>\n",
       "      <th>Industry</th>\n",
       "      <th>Service</th>\n",
       "    </tr>\n",
       "  </thead>\n",
       "  <tbody>\n",
       "    <tr>\n",
       "      <th>60</th>\n",
       "      <td>Cyprus</td>\n",
       "      <td>65</td>\n",
       "      <td>5.621</td>\n",
       "      <td>NEAR EAST</td>\n",
       "      <td>784301</td>\n",
       "      <td>9250</td>\n",
       "      <td>84.8</td>\n",
       "      <td>7.01</td>\n",
       "      <td>0.43</td>\n",
       "      <td>7.18</td>\n",
       "      <td>19200.0</td>\n",
       "      <td>97.6</td>\n",
       "      <td>330.56</td>\n",
       "      <td>3.0</td>\n",
       "      <td>12.56</td>\n",
       "      <td>7.68</td>\n",
       "      <td>0.037</td>\n",
       "      <td>0.198</td>\n",
       "      <td>0.765</td>\n",
       "    </tr>\n",
       "  </tbody>\n",
       "</table>\n",
       "</div>"
      ],
      "text/plain": [
       "   Country  Happiness.Rank  Happiness.Score  \\\n",
       "60  Cyprus              65            5.621   \n",
       "\n",
       "                                 Region  Population  Area (sq. mi.)  \\\n",
       "60  NEAR EAST                                784301            9250   \n",
       "\n",
       "    Pop. Density (per sq. mi.)  Coastline (coast/area ratio)  Net migration  \\\n",
       "60                        84.8                          7.01           0.43   \n",
       "\n",
       "    Infant mortality (per 1000 births)  GDP ($ per capita)  Literacy (%)  \\\n",
       "60                                7.18             19200.0          97.6   \n",
       "\n",
       "    Phones (per 1000)  Climate  Birthrate  Deathrate  Agriculture  Industry  \\\n",
       "60             330.56      3.0      12.56       7.68        0.037     0.198   \n",
       "\n",
       "    Service  \n",
       "60    0.765  "
      ]
     },
     "execution_count": 14,
     "metadata": {},
     "output_type": "execute_result"
    }
   ],
   "source": [
    "#update manualy from online sources\n",
    "df_happy.at[60, 'Phones (per 1000)']=330.56 #based on https://www.nationmaster.com/country-info/stats/Media/Telecoms/Telephone-lines-per-1000\n",
    "df_happy[60:61] "
   ]
  },
  {
   "cell_type": "code",
   "execution_count": 15,
   "metadata": {},
   "outputs": [
    {
     "data": {
      "text/html": [
       "<div>\n",
       "<style scoped>\n",
       "    .dataframe tbody tr th:only-of-type {\n",
       "        vertical-align: middle;\n",
       "    }\n",
       "\n",
       "    .dataframe tbody tr th {\n",
       "        vertical-align: top;\n",
       "    }\n",
       "\n",
       "    .dataframe thead th {\n",
       "        text-align: right;\n",
       "    }\n",
       "</style>\n",
       "<table border=\"1\" class=\"dataframe\">\n",
       "  <thead>\n",
       "    <tr style=\"text-align: right;\">\n",
       "      <th></th>\n",
       "      <th>Country</th>\n",
       "      <th>Happiness.Rank</th>\n",
       "      <th>Happiness.Score</th>\n",
       "      <th>Region</th>\n",
       "      <th>Population</th>\n",
       "      <th>Area (sq. mi.)</th>\n",
       "      <th>Pop. Density (per sq. mi.)</th>\n",
       "      <th>Coastline (coast/area ratio)</th>\n",
       "      <th>Net migration</th>\n",
       "      <th>Infant mortality (per 1000 births)</th>\n",
       "      <th>GDP ($ per capita)</th>\n",
       "      <th>Literacy (%)</th>\n",
       "      <th>Phones (per 1000)</th>\n",
       "      <th>Climate</th>\n",
       "      <th>Birthrate</th>\n",
       "      <th>Deathrate</th>\n",
       "      <th>Agriculture</th>\n",
       "      <th>Industry</th>\n",
       "      <th>Service</th>\n",
       "    </tr>\n",
       "  </thead>\n",
       "  <tbody>\n",
       "    <tr>\n",
       "      <th>67</th>\n",
       "      <td>Serbia</td>\n",
       "      <td>73</td>\n",
       "      <td>5.395</td>\n",
       "      <td>EASTERN EUROPE</td>\n",
       "      <td>9396411</td>\n",
       "      <td>88361</td>\n",
       "      <td>106.3</td>\n",
       "      <td>0.0</td>\n",
       "      <td>-1.33</td>\n",
       "      <td>12.89</td>\n",
       "      <td>2200.0</td>\n",
       "      <td>93.0</td>\n",
       "      <td>285.8</td>\n",
       "      <td>NaN</td>\n",
       "      <td>NaN</td>\n",
       "      <td>NaN</td>\n",
       "      <td>0.166</td>\n",
       "      <td>0.255</td>\n",
       "      <td>0.579</td>\n",
       "    </tr>\n",
       "  </tbody>\n",
       "</table>\n",
       "</div>"
      ],
      "text/plain": [
       "   Country  Happiness.Rank  Happiness.Score  \\\n",
       "67  Serbia              73            5.395   \n",
       "\n",
       "                                 Region  Population  Area (sq. mi.)  \\\n",
       "67  EASTERN EUROPE                          9396411           88361   \n",
       "\n",
       "    Pop. Density (per sq. mi.)  Coastline (coast/area ratio)  Net migration  \\\n",
       "67                       106.3                           0.0          -1.33   \n",
       "\n",
       "    Infant mortality (per 1000 births)  GDP ($ per capita)  Literacy (%)  \\\n",
       "67                               12.89              2200.0          93.0   \n",
       "\n",
       "    Phones (per 1000)  Climate  Birthrate  Deathrate  Agriculture  Industry  \\\n",
       "67              285.8      NaN        NaN        NaN        0.166     0.255   \n",
       "\n",
       "    Service  \n",
       "67    0.579  "
      ]
     },
     "execution_count": 15,
     "metadata": {},
     "output_type": "execute_result"
    }
   ],
   "source": [
    "df_happy[df_happy['Birthrate'].isnull()]"
   ]
  },
  {
   "cell_type": "code",
   "execution_count": 16,
   "metadata": {},
   "outputs": [],
   "source": [
    "#update manualy from online sources\n",
    "df_happy.at[67, 'Birthrate']=9.0  #indexmundi.com\n",
    "df_happy.at[67, 'Deathrate']=13.6 #indexmundi.com"
   ]
  },
  {
   "cell_type": "code",
   "execution_count": 17,
   "metadata": {},
   "outputs": [
    {
     "name": "stdout",
     "output_type": "stream",
     "text": [
      "16\n"
     ]
    },
    {
     "data": {
      "text/html": [
       "<div>\n",
       "<style scoped>\n",
       "    .dataframe tbody tr th:only-of-type {\n",
       "        vertical-align: middle;\n",
       "    }\n",
       "\n",
       "    .dataframe tbody tr th {\n",
       "        vertical-align: top;\n",
       "    }\n",
       "\n",
       "    .dataframe thead th {\n",
       "        text-align: right;\n",
       "    }\n",
       "</style>\n",
       "<table border=\"1\" class=\"dataframe\">\n",
       "  <thead>\n",
       "    <tr style=\"text-align: right;\">\n",
       "      <th></th>\n",
       "      <th>Country</th>\n",
       "      <th>Happiness.Rank</th>\n",
       "      <th>Happiness.Score</th>\n",
       "      <th>Region</th>\n",
       "      <th>Population</th>\n",
       "      <th>Area (sq. mi.)</th>\n",
       "      <th>Pop. Density (per sq. mi.)</th>\n",
       "      <th>Coastline (coast/area ratio)</th>\n",
       "      <th>Net migration</th>\n",
       "      <th>Infant mortality (per 1000 births)</th>\n",
       "      <th>GDP ($ per capita)</th>\n",
       "      <th>Literacy (%)</th>\n",
       "      <th>Phones (per 1000)</th>\n",
       "      <th>Climate</th>\n",
       "      <th>Birthrate</th>\n",
       "      <th>Deathrate</th>\n",
       "      <th>Agriculture</th>\n",
       "      <th>Industry</th>\n",
       "      <th>Service</th>\n",
       "    </tr>\n",
       "  </thead>\n",
       "  <tbody>\n",
       "    <tr>\n",
       "      <th>6</th>\n",
       "      <td>Canada</td>\n",
       "      <td>7</td>\n",
       "      <td>7.316</td>\n",
       "      <td>NORTHERN AMERICA</td>\n",
       "      <td>33098932</td>\n",
       "      <td>9984670</td>\n",
       "      <td>3.3</td>\n",
       "      <td>2.02</td>\n",
       "      <td>5.96</td>\n",
       "      <td>4.75</td>\n",
       "      <td>29800.0</td>\n",
       "      <td>97.0</td>\n",
       "      <td>552.2</td>\n",
       "      <td>NaN</td>\n",
       "      <td>10.78</td>\n",
       "      <td>7.80</td>\n",
       "      <td>0.022</td>\n",
       "      <td>0.294</td>\n",
       "      <td>0.684</td>\n",
       "    </tr>\n",
       "    <tr>\n",
       "      <th>17</th>\n",
       "      <td>Luxembourg</td>\n",
       "      <td>18</td>\n",
       "      <td>6.863</td>\n",
       "      <td>WESTERN EUROPE</td>\n",
       "      <td>474413</td>\n",
       "      <td>2586</td>\n",
       "      <td>183.5</td>\n",
       "      <td>0.00</td>\n",
       "      <td>8.97</td>\n",
       "      <td>4.81</td>\n",
       "      <td>55100.0</td>\n",
       "      <td>100.0</td>\n",
       "      <td>515.4</td>\n",
       "      <td>NaN</td>\n",
       "      <td>11.94</td>\n",
       "      <td>8.41</td>\n",
       "      <td>0.010</td>\n",
       "      <td>0.130</td>\n",
       "      <td>0.860</td>\n",
       "    </tr>\n",
       "    <tr>\n",
       "      <th>26</th>\n",
       "      <td>Malta</td>\n",
       "      <td>27</td>\n",
       "      <td>6.527</td>\n",
       "      <td>WESTERN EUROPE</td>\n",
       "      <td>400214</td>\n",
       "      <td>316</td>\n",
       "      <td>1266.5</td>\n",
       "      <td>62.28</td>\n",
       "      <td>2.07</td>\n",
       "      <td>3.89</td>\n",
       "      <td>17700.0</td>\n",
       "      <td>92.8</td>\n",
       "      <td>505.0</td>\n",
       "      <td>NaN</td>\n",
       "      <td>10.22</td>\n",
       "      <td>8.10</td>\n",
       "      <td>0.030</td>\n",
       "      <td>0.230</td>\n",
       "      <td>0.740</td>\n",
       "    </tr>\n",
       "  </tbody>\n",
       "</table>\n",
       "</div>"
      ],
      "text/plain": [
       "       Country  Happiness.Rank  Happiness.Score  \\\n",
       "6       Canada               7            7.316   \n",
       "17  Luxembourg              18            6.863   \n",
       "26       Malta              27            6.527   \n",
       "\n",
       "                                 Region  Population  Area (sq. mi.)  \\\n",
       "6   NORTHERN AMERICA                       33098932         9984670   \n",
       "17  WESTERN EUROPE                           474413            2586   \n",
       "26  WESTERN EUROPE                           400214             316   \n",
       "\n",
       "    Pop. Density (per sq. mi.)  Coastline (coast/area ratio)  Net migration  \\\n",
       "6                          3.3                          2.02           5.96   \n",
       "17                       183.5                          0.00           8.97   \n",
       "26                      1266.5                         62.28           2.07   \n",
       "\n",
       "    Infant mortality (per 1000 births)  GDP ($ per capita)  Literacy (%)  \\\n",
       "6                                 4.75             29800.0          97.0   \n",
       "17                                4.81             55100.0         100.0   \n",
       "26                                3.89             17700.0          92.8   \n",
       "\n",
       "    Phones (per 1000)  Climate  Birthrate  Deathrate  Agriculture  Industry  \\\n",
       "6               552.2      NaN      10.78       7.80        0.022     0.294   \n",
       "17              515.4      NaN      11.94       8.41        0.010     0.130   \n",
       "26              505.0      NaN      10.22       8.10        0.030     0.230   \n",
       "\n",
       "    Service  \n",
       "6     0.684  \n",
       "17    0.860  \n",
       "26    0.740  "
      ]
     },
     "execution_count": 17,
     "metadata": {},
     "output_type": "execute_result"
    }
   ],
   "source": [
    "print (len(df_happy[df_happy['Climate'].isnull()]))\n",
    "df_happy[df_happy['Climate'].isnull()].head(3)"
   ]
  },
  {
   "cell_type": "code",
   "execution_count": 18,
   "metadata": {},
   "outputs": [],
   "source": [
    "#because the number of Null values of Climate is relativly big it will reqire a lot of work to update manualy\n",
    "#instead I am going to replace the missing values with the climatee mode of their region\n",
    "#the first thing I am doing is to find the climate mode for each region\n",
    "\n",
    "reg_mode= df_happy.groupby(['Region']).agg(lambda x:x.value_counts().index[0])[['Climate']].reset_index()"
   ]
  },
  {
   "cell_type": "code",
   "execution_count": 19,
   "metadata": {},
   "outputs": [],
   "source": [
    "#now I  am creating a dictionary of the region and climate mode\n",
    "reg_dict={}\n",
    "regions= list(reg_mode.Region)\n",
    "climates= list(reg_mode.Climate)\n",
    "for i in range(len(regions)):\n",
    "    reg_dict[regions[i]]=climates[i]"
   ]
  },
  {
   "cell_type": "code",
   "execution_count": 20,
   "metadata": {},
   "outputs": [
    {
     "data": {
      "text/plain": [
       "{'ASIA (EX. NEAR EAST)         ': 2.0,\n",
       " 'BALTICS                            ': 3.0,\n",
       " 'C.W. OF IND. STATES ': 4.0,\n",
       " 'EASTERN EUROPE                     ': 3.0,\n",
       " 'LATIN AMER. & CARIB    ': 2.0,\n",
       " 'NEAR EAST                          ': 1.0,\n",
       " 'NORTHERN AFRICA                    ': 1.0,\n",
       " 'NORTHERN AMERICA                   ': 3.0,\n",
       " 'OCEANIA                            ': 1.0,\n",
       " 'SUB-SAHARAN AFRICA                 ': 2.0,\n",
       " 'WESTERN EUROPE                     ': 3.0}"
      ]
     },
     "execution_count": 20,
     "metadata": {},
     "output_type": "execute_result"
    }
   ],
   "source": [
    "reg_dict"
   ]
  },
  {
   "cell_type": "code",
   "execution_count": 21,
   "metadata": {},
   "outputs": [],
   "source": [
    "#creating a list of all the regions in the Region columns\n",
    "reg_col= list(df_happy.Region)"
   ]
  },
  {
   "cell_type": "code",
   "execution_count": 22,
   "metadata": {},
   "outputs": [],
   "source": [
    "#creating a new list where each country receive their climte mode\n",
    "reg_clim= []\n",
    "for a in reg_col:\n",
    "    reg_clim.append(reg_dict[a])"
   ]
  },
  {
   "cell_type": "code",
   "execution_count": 23,
   "metadata": {},
   "outputs": [],
   "source": [
    "#creating new column in the data frame with the regional climate \n",
    "df_happy['Regional_Climate']= reg_clim"
   ]
  },
  {
   "cell_type": "code",
   "execution_count": 24,
   "metadata": {},
   "outputs": [],
   "source": [
    "#countries with no data on their climate receive their regional climate mode\n",
    "df_happy['Climate']= df_happy['Climate'].fillna(df_happy['Regional_Climate'])"
   ]
  },
  {
   "cell_type": "code",
   "execution_count": 25,
   "metadata": {},
   "outputs": [],
   "source": [
    "#deleting the 'Regional Climate' column\n",
    "try:\n",
    "    del df_happy['Regional_Climate']\n",
    "except:\n",
    "    pass"
   ]
  },
  {
   "cell_type": "code",
   "execution_count": 26,
   "metadata": {},
   "outputs": [
    {
     "data": {
      "text/html": [
       "<div>\n",
       "<style scoped>\n",
       "    .dataframe tbody tr th:only-of-type {\n",
       "        vertical-align: middle;\n",
       "    }\n",
       "\n",
       "    .dataframe tbody tr th {\n",
       "        vertical-align: top;\n",
       "    }\n",
       "\n",
       "    .dataframe thead th {\n",
       "        text-align: right;\n",
       "    }\n",
       "</style>\n",
       "<table border=\"1\" class=\"dataframe\">\n",
       "  <thead>\n",
       "    <tr style=\"text-align: right;\">\n",
       "      <th></th>\n",
       "      <th>Happiness.Rank</th>\n",
       "      <th>Happiness.Score</th>\n",
       "      <th>Population</th>\n",
       "      <th>Area (sq. mi.)</th>\n",
       "      <th>Pop. Density (per sq. mi.)</th>\n",
       "      <th>Coastline (coast/area ratio)</th>\n",
       "      <th>Net migration</th>\n",
       "      <th>Infant mortality (per 1000 births)</th>\n",
       "      <th>GDP ($ per capita)</th>\n",
       "      <th>Literacy (%)</th>\n",
       "      <th>Phones (per 1000)</th>\n",
       "      <th>Climate</th>\n",
       "      <th>Birthrate</th>\n",
       "      <th>Deathrate</th>\n",
       "      <th>Agriculture</th>\n",
       "      <th>Industry</th>\n",
       "      <th>Service</th>\n",
       "    </tr>\n",
       "  </thead>\n",
       "  <tbody>\n",
       "    <tr>\n",
       "      <th>count</th>\n",
       "      <td>140.0</td>\n",
       "      <td>140.0</td>\n",
       "      <td>140.0</td>\n",
       "      <td>140.0</td>\n",
       "      <td>140.0</td>\n",
       "      <td>140.0</td>\n",
       "      <td>140.0</td>\n",
       "      <td>140.0</td>\n",
       "      <td>140.0</td>\n",
       "      <td>140.0</td>\n",
       "      <td>140.0</td>\n",
       "      <td>140.0</td>\n",
       "      <td>140.0</td>\n",
       "      <td>140.0</td>\n",
       "      <td>140.0</td>\n",
       "      <td>140.0</td>\n",
       "      <td>140.0</td>\n",
       "    </tr>\n",
       "  </tbody>\n",
       "</table>\n",
       "</div>"
      ],
      "text/plain": [
       "       Happiness.Rank  Happiness.Score  Population  Area (sq. mi.)  \\\n",
       "count           140.0            140.0       140.0           140.0   \n",
       "\n",
       "       Pop. Density (per sq. mi.)  Coastline (coast/area ratio)  \\\n",
       "count                       140.0                         140.0   \n",
       "\n",
       "       Net migration  Infant mortality (per 1000 births)  GDP ($ per capita)  \\\n",
       "count          140.0                               140.0               140.0   \n",
       "\n",
       "       Literacy (%)  Phones (per 1000)  Climate  Birthrate  Deathrate  \\\n",
       "count         140.0              140.0    140.0      140.0      140.0   \n",
       "\n",
       "       Agriculture  Industry  Service  \n",
       "count        140.0     140.0    140.0  "
      ]
     },
     "execution_count": 26,
     "metadata": {},
     "output_type": "execute_result"
    }
   ],
   "source": [
    "#Checkig numericly that there are not anymore Null vlaues\n",
    "df_happy.describe().head(1)"
   ]
  },
  {
   "cell_type": "markdown",
   "metadata": {},
   "source": [
    "Our Data is ready to work!"
   ]
  },
  {
   "cell_type": "code",
   "execution_count": 27,
   "metadata": {},
   "outputs": [
    {
     "data": {
      "text/html": [
       "<div>\n",
       "<style scoped>\n",
       "    .dataframe tbody tr th:only-of-type {\n",
       "        vertical-align: middle;\n",
       "    }\n",
       "\n",
       "    .dataframe tbody tr th {\n",
       "        vertical-align: top;\n",
       "    }\n",
       "\n",
       "    .dataframe thead th {\n",
       "        text-align: right;\n",
       "    }\n",
       "</style>\n",
       "<table border=\"1\" class=\"dataframe\">\n",
       "  <thead>\n",
       "    <tr style=\"text-align: right;\">\n",
       "      <th></th>\n",
       "      <th>Happiness.Rank</th>\n",
       "      <th>Happiness.Score</th>\n",
       "      <th>Population</th>\n",
       "      <th>Area (sq. mi.)</th>\n",
       "      <th>Pop. Density (per sq. mi.)</th>\n",
       "      <th>Coastline (coast/area ratio)</th>\n",
       "      <th>Net migration</th>\n",
       "      <th>Infant mortality (per 1000 births)</th>\n",
       "      <th>GDP ($ per capita)</th>\n",
       "      <th>Literacy (%)</th>\n",
       "      <th>Phones (per 1000)</th>\n",
       "      <th>Climate</th>\n",
       "      <th>Birthrate</th>\n",
       "      <th>Deathrate</th>\n",
       "      <th>Agriculture</th>\n",
       "      <th>Industry</th>\n",
       "      <th>Service</th>\n",
       "    </tr>\n",
       "  </thead>\n",
       "  <tbody>\n",
       "    <tr>\n",
       "      <th>Happiness.Rank</th>\n",
       "      <td>True</td>\n",
       "      <td>True</td>\n",
       "      <td>False</td>\n",
       "      <td>False</td>\n",
       "      <td>False</td>\n",
       "      <td>False</td>\n",
       "      <td>False</td>\n",
       "      <td>True</td>\n",
       "      <td>True</td>\n",
       "      <td>False</td>\n",
       "      <td>True</td>\n",
       "      <td>False</td>\n",
       "      <td>False</td>\n",
       "      <td>False</td>\n",
       "      <td>False</td>\n",
       "      <td>False</td>\n",
       "      <td>False</td>\n",
       "    </tr>\n",
       "    <tr>\n",
       "      <th>Happiness.Score</th>\n",
       "      <td>True</td>\n",
       "      <td>True</td>\n",
       "      <td>False</td>\n",
       "      <td>False</td>\n",
       "      <td>False</td>\n",
       "      <td>False</td>\n",
       "      <td>False</td>\n",
       "      <td>False</td>\n",
       "      <td>True</td>\n",
       "      <td>False</td>\n",
       "      <td>True</td>\n",
       "      <td>False</td>\n",
       "      <td>False</td>\n",
       "      <td>False</td>\n",
       "      <td>False</td>\n",
       "      <td>False</td>\n",
       "      <td>False</td>\n",
       "    </tr>\n",
       "    <tr>\n",
       "      <th>Population</th>\n",
       "      <td>False</td>\n",
       "      <td>False</td>\n",
       "      <td>True</td>\n",
       "      <td>False</td>\n",
       "      <td>False</td>\n",
       "      <td>False</td>\n",
       "      <td>False</td>\n",
       "      <td>False</td>\n",
       "      <td>False</td>\n",
       "      <td>False</td>\n",
       "      <td>False</td>\n",
       "      <td>False</td>\n",
       "      <td>False</td>\n",
       "      <td>False</td>\n",
       "      <td>False</td>\n",
       "      <td>False</td>\n",
       "      <td>False</td>\n",
       "    </tr>\n",
       "    <tr>\n",
       "      <th>Area (sq. mi.)</th>\n",
       "      <td>False</td>\n",
       "      <td>False</td>\n",
       "      <td>False</td>\n",
       "      <td>True</td>\n",
       "      <td>False</td>\n",
       "      <td>False</td>\n",
       "      <td>False</td>\n",
       "      <td>False</td>\n",
       "      <td>False</td>\n",
       "      <td>False</td>\n",
       "      <td>False</td>\n",
       "      <td>False</td>\n",
       "      <td>False</td>\n",
       "      <td>False</td>\n",
       "      <td>False</td>\n",
       "      <td>False</td>\n",
       "      <td>False</td>\n",
       "    </tr>\n",
       "    <tr>\n",
       "      <th>Pop. Density (per sq. mi.)</th>\n",
       "      <td>False</td>\n",
       "      <td>False</td>\n",
       "      <td>False</td>\n",
       "      <td>False</td>\n",
       "      <td>True</td>\n",
       "      <td>False</td>\n",
       "      <td>False</td>\n",
       "      <td>False</td>\n",
       "      <td>False</td>\n",
       "      <td>False</td>\n",
       "      <td>False</td>\n",
       "      <td>False</td>\n",
       "      <td>False</td>\n",
       "      <td>False</td>\n",
       "      <td>False</td>\n",
       "      <td>False</td>\n",
       "      <td>False</td>\n",
       "    </tr>\n",
       "    <tr>\n",
       "      <th>Coastline (coast/area ratio)</th>\n",
       "      <td>False</td>\n",
       "      <td>False</td>\n",
       "      <td>False</td>\n",
       "      <td>False</td>\n",
       "      <td>False</td>\n",
       "      <td>True</td>\n",
       "      <td>False</td>\n",
       "      <td>False</td>\n",
       "      <td>False</td>\n",
       "      <td>False</td>\n",
       "      <td>False</td>\n",
       "      <td>False</td>\n",
       "      <td>False</td>\n",
       "      <td>False</td>\n",
       "      <td>False</td>\n",
       "      <td>False</td>\n",
       "      <td>False</td>\n",
       "    </tr>\n",
       "    <tr>\n",
       "      <th>Net migration</th>\n",
       "      <td>False</td>\n",
       "      <td>False</td>\n",
       "      <td>False</td>\n",
       "      <td>False</td>\n",
       "      <td>False</td>\n",
       "      <td>False</td>\n",
       "      <td>True</td>\n",
       "      <td>False</td>\n",
       "      <td>False</td>\n",
       "      <td>False</td>\n",
       "      <td>False</td>\n",
       "      <td>False</td>\n",
       "      <td>False</td>\n",
       "      <td>False</td>\n",
       "      <td>False</td>\n",
       "      <td>False</td>\n",
       "      <td>False</td>\n",
       "    </tr>\n",
       "    <tr>\n",
       "      <th>Infant mortality (per 1000 births)</th>\n",
       "      <td>True</td>\n",
       "      <td>False</td>\n",
       "      <td>False</td>\n",
       "      <td>False</td>\n",
       "      <td>False</td>\n",
       "      <td>False</td>\n",
       "      <td>False</td>\n",
       "      <td>True</td>\n",
       "      <td>False</td>\n",
       "      <td>True</td>\n",
       "      <td>True</td>\n",
       "      <td>False</td>\n",
       "      <td>True</td>\n",
       "      <td>False</td>\n",
       "      <td>True</td>\n",
       "      <td>False</td>\n",
       "      <td>False</td>\n",
       "    </tr>\n",
       "    <tr>\n",
       "      <th>GDP ($ per capita)</th>\n",
       "      <td>True</td>\n",
       "      <td>True</td>\n",
       "      <td>False</td>\n",
       "      <td>False</td>\n",
       "      <td>False</td>\n",
       "      <td>False</td>\n",
       "      <td>False</td>\n",
       "      <td>False</td>\n",
       "      <td>True</td>\n",
       "      <td>False</td>\n",
       "      <td>True</td>\n",
       "      <td>False</td>\n",
       "      <td>False</td>\n",
       "      <td>False</td>\n",
       "      <td>False</td>\n",
       "      <td>False</td>\n",
       "      <td>False</td>\n",
       "    </tr>\n",
       "    <tr>\n",
       "      <th>Literacy (%)</th>\n",
       "      <td>False</td>\n",
       "      <td>False</td>\n",
       "      <td>False</td>\n",
       "      <td>False</td>\n",
       "      <td>False</td>\n",
       "      <td>False</td>\n",
       "      <td>False</td>\n",
       "      <td>True</td>\n",
       "      <td>False</td>\n",
       "      <td>True</td>\n",
       "      <td>False</td>\n",
       "      <td>False</td>\n",
       "      <td>True</td>\n",
       "      <td>False</td>\n",
       "      <td>False</td>\n",
       "      <td>False</td>\n",
       "      <td>False</td>\n",
       "    </tr>\n",
       "    <tr>\n",
       "      <th>Phones (per 1000)</th>\n",
       "      <td>True</td>\n",
       "      <td>True</td>\n",
       "      <td>False</td>\n",
       "      <td>False</td>\n",
       "      <td>False</td>\n",
       "      <td>False</td>\n",
       "      <td>False</td>\n",
       "      <td>True</td>\n",
       "      <td>True</td>\n",
       "      <td>False</td>\n",
       "      <td>True</td>\n",
       "      <td>False</td>\n",
       "      <td>True</td>\n",
       "      <td>False</td>\n",
       "      <td>False</td>\n",
       "      <td>False</td>\n",
       "      <td>False</td>\n",
       "    </tr>\n",
       "    <tr>\n",
       "      <th>Climate</th>\n",
       "      <td>False</td>\n",
       "      <td>False</td>\n",
       "      <td>False</td>\n",
       "      <td>False</td>\n",
       "      <td>False</td>\n",
       "      <td>False</td>\n",
       "      <td>False</td>\n",
       "      <td>False</td>\n",
       "      <td>False</td>\n",
       "      <td>False</td>\n",
       "      <td>False</td>\n",
       "      <td>True</td>\n",
       "      <td>False</td>\n",
       "      <td>False</td>\n",
       "      <td>False</td>\n",
       "      <td>False</td>\n",
       "      <td>False</td>\n",
       "    </tr>\n",
       "    <tr>\n",
       "      <th>Birthrate</th>\n",
       "      <td>False</td>\n",
       "      <td>False</td>\n",
       "      <td>False</td>\n",
       "      <td>False</td>\n",
       "      <td>False</td>\n",
       "      <td>False</td>\n",
       "      <td>False</td>\n",
       "      <td>True</td>\n",
       "      <td>False</td>\n",
       "      <td>True</td>\n",
       "      <td>True</td>\n",
       "      <td>False</td>\n",
       "      <td>True</td>\n",
       "      <td>False</td>\n",
       "      <td>True</td>\n",
       "      <td>False</td>\n",
       "      <td>False</td>\n",
       "    </tr>\n",
       "    <tr>\n",
       "      <th>Deathrate</th>\n",
       "      <td>False</td>\n",
       "      <td>False</td>\n",
       "      <td>False</td>\n",
       "      <td>False</td>\n",
       "      <td>False</td>\n",
       "      <td>False</td>\n",
       "      <td>False</td>\n",
       "      <td>False</td>\n",
       "      <td>False</td>\n",
       "      <td>False</td>\n",
       "      <td>False</td>\n",
       "      <td>False</td>\n",
       "      <td>False</td>\n",
       "      <td>True</td>\n",
       "      <td>False</td>\n",
       "      <td>False</td>\n",
       "      <td>False</td>\n",
       "    </tr>\n",
       "    <tr>\n",
       "      <th>Agriculture</th>\n",
       "      <td>False</td>\n",
       "      <td>False</td>\n",
       "      <td>False</td>\n",
       "      <td>False</td>\n",
       "      <td>False</td>\n",
       "      <td>False</td>\n",
       "      <td>False</td>\n",
       "      <td>True</td>\n",
       "      <td>False</td>\n",
       "      <td>False</td>\n",
       "      <td>False</td>\n",
       "      <td>False</td>\n",
       "      <td>True</td>\n",
       "      <td>False</td>\n",
       "      <td>True</td>\n",
       "      <td>False</td>\n",
       "      <td>False</td>\n",
       "    </tr>\n",
       "    <tr>\n",
       "      <th>Industry</th>\n",
       "      <td>False</td>\n",
       "      <td>False</td>\n",
       "      <td>False</td>\n",
       "      <td>False</td>\n",
       "      <td>False</td>\n",
       "      <td>False</td>\n",
       "      <td>False</td>\n",
       "      <td>False</td>\n",
       "      <td>False</td>\n",
       "      <td>False</td>\n",
       "      <td>False</td>\n",
       "      <td>False</td>\n",
       "      <td>False</td>\n",
       "      <td>False</td>\n",
       "      <td>False</td>\n",
       "      <td>True</td>\n",
       "      <td>False</td>\n",
       "    </tr>\n",
       "    <tr>\n",
       "      <th>Service</th>\n",
       "      <td>False</td>\n",
       "      <td>False</td>\n",
       "      <td>False</td>\n",
       "      <td>False</td>\n",
       "      <td>False</td>\n",
       "      <td>False</td>\n",
       "      <td>False</td>\n",
       "      <td>False</td>\n",
       "      <td>False</td>\n",
       "      <td>False</td>\n",
       "      <td>False</td>\n",
       "      <td>False</td>\n",
       "      <td>False</td>\n",
       "      <td>False</td>\n",
       "      <td>False</td>\n",
       "      <td>False</td>\n",
       "      <td>True</td>\n",
       "    </tr>\n",
       "  </tbody>\n",
       "</table>\n",
       "</div>"
      ],
      "text/plain": [
       "                                    Happiness.Rank  Happiness.Score  \\\n",
       "Happiness.Rank                                True             True   \n",
       "Happiness.Score                               True             True   \n",
       "Population                                   False            False   \n",
       "Area (sq. mi.)                               False            False   \n",
       "Pop. Density (per sq. mi.)                   False            False   \n",
       "Coastline (coast/area ratio)                 False            False   \n",
       "Net migration                                False            False   \n",
       "Infant mortality (per 1000 births)            True            False   \n",
       "GDP ($ per capita)                            True             True   \n",
       "Literacy (%)                                 False            False   \n",
       "Phones (per 1000)                             True             True   \n",
       "Climate                                      False            False   \n",
       "Birthrate                                    False            False   \n",
       "Deathrate                                    False            False   \n",
       "Agriculture                                  False            False   \n",
       "Industry                                     False            False   \n",
       "Service                                      False            False   \n",
       "\n",
       "                                    Population  Area (sq. mi.)  \\\n",
       "Happiness.Rank                           False           False   \n",
       "Happiness.Score                          False           False   \n",
       "Population                                True           False   \n",
       "Area (sq. mi.)                           False            True   \n",
       "Pop. Density (per sq. mi.)               False           False   \n",
       "Coastline (coast/area ratio)             False           False   \n",
       "Net migration                            False           False   \n",
       "Infant mortality (per 1000 births)       False           False   \n",
       "GDP ($ per capita)                       False           False   \n",
       "Literacy (%)                             False           False   \n",
       "Phones (per 1000)                        False           False   \n",
       "Climate                                  False           False   \n",
       "Birthrate                                False           False   \n",
       "Deathrate                                False           False   \n",
       "Agriculture                              False           False   \n",
       "Industry                                 False           False   \n",
       "Service                                  False           False   \n",
       "\n",
       "                                    Pop. Density (per sq. mi.)  \\\n",
       "Happiness.Rank                                           False   \n",
       "Happiness.Score                                          False   \n",
       "Population                                               False   \n",
       "Area (sq. mi.)                                           False   \n",
       "Pop. Density (per sq. mi.)                                True   \n",
       "Coastline (coast/area ratio)                             False   \n",
       "Net migration                                            False   \n",
       "Infant mortality (per 1000 births)                       False   \n",
       "GDP ($ per capita)                                       False   \n",
       "Literacy (%)                                             False   \n",
       "Phones (per 1000)                                        False   \n",
       "Climate                                                  False   \n",
       "Birthrate                                                False   \n",
       "Deathrate                                                False   \n",
       "Agriculture                                              False   \n",
       "Industry                                                 False   \n",
       "Service                                                  False   \n",
       "\n",
       "                                    Coastline (coast/area ratio)  \\\n",
       "Happiness.Rank                                             False   \n",
       "Happiness.Score                                            False   \n",
       "Population                                                 False   \n",
       "Area (sq. mi.)                                             False   \n",
       "Pop. Density (per sq. mi.)                                 False   \n",
       "Coastline (coast/area ratio)                                True   \n",
       "Net migration                                              False   \n",
       "Infant mortality (per 1000 births)                         False   \n",
       "GDP ($ per capita)                                         False   \n",
       "Literacy (%)                                               False   \n",
       "Phones (per 1000)                                          False   \n",
       "Climate                                                    False   \n",
       "Birthrate                                                  False   \n",
       "Deathrate                                                  False   \n",
       "Agriculture                                                False   \n",
       "Industry                                                   False   \n",
       "Service                                                    False   \n",
       "\n",
       "                                    Net migration  \\\n",
       "Happiness.Rank                              False   \n",
       "Happiness.Score                             False   \n",
       "Population                                  False   \n",
       "Area (sq. mi.)                              False   \n",
       "Pop. Density (per sq. mi.)                  False   \n",
       "Coastline (coast/area ratio)                False   \n",
       "Net migration                                True   \n",
       "Infant mortality (per 1000 births)          False   \n",
       "GDP ($ per capita)                          False   \n",
       "Literacy (%)                                False   \n",
       "Phones (per 1000)                           False   \n",
       "Climate                                     False   \n",
       "Birthrate                                   False   \n",
       "Deathrate                                   False   \n",
       "Agriculture                                 False   \n",
       "Industry                                    False   \n",
       "Service                                     False   \n",
       "\n",
       "                                    Infant mortality (per 1000 births)  \\\n",
       "Happiness.Rank                                                    True   \n",
       "Happiness.Score                                                  False   \n",
       "Population                                                       False   \n",
       "Area (sq. mi.)                                                   False   \n",
       "Pop. Density (per sq. mi.)                                       False   \n",
       "Coastline (coast/area ratio)                                     False   \n",
       "Net migration                                                    False   \n",
       "Infant mortality (per 1000 births)                                True   \n",
       "GDP ($ per capita)                                               False   \n",
       "Literacy (%)                                                      True   \n",
       "Phones (per 1000)                                                 True   \n",
       "Climate                                                          False   \n",
       "Birthrate                                                         True   \n",
       "Deathrate                                                        False   \n",
       "Agriculture                                                       True   \n",
       "Industry                                                         False   \n",
       "Service                                                          False   \n",
       "\n",
       "                                    GDP ($ per capita)  Literacy (%)  \\\n",
       "Happiness.Rank                                    True         False   \n",
       "Happiness.Score                                   True         False   \n",
       "Population                                       False         False   \n",
       "Area (sq. mi.)                                   False         False   \n",
       "Pop. Density (per sq. mi.)                       False         False   \n",
       "Coastline (coast/area ratio)                     False         False   \n",
       "Net migration                                    False         False   \n",
       "Infant mortality (per 1000 births)               False          True   \n",
       "GDP ($ per capita)                                True         False   \n",
       "Literacy (%)                                     False          True   \n",
       "Phones (per 1000)                                 True         False   \n",
       "Climate                                          False         False   \n",
       "Birthrate                                        False          True   \n",
       "Deathrate                                        False         False   \n",
       "Agriculture                                      False         False   \n",
       "Industry                                         False         False   \n",
       "Service                                          False         False   \n",
       "\n",
       "                                    Phones (per 1000)  Climate  Birthrate  \\\n",
       "Happiness.Rank                                   True    False      False   \n",
       "Happiness.Score                                  True    False      False   \n",
       "Population                                      False    False      False   \n",
       "Area (sq. mi.)                                  False    False      False   \n",
       "Pop. Density (per sq. mi.)                      False    False      False   \n",
       "Coastline (coast/area ratio)                    False    False      False   \n",
       "Net migration                                   False    False      False   \n",
       "Infant mortality (per 1000 births)               True    False       True   \n",
       "GDP ($ per capita)                               True    False      False   \n",
       "Literacy (%)                                    False    False       True   \n",
       "Phones (per 1000)                                True    False       True   \n",
       "Climate                                         False     True      False   \n",
       "Birthrate                                        True    False       True   \n",
       "Deathrate                                       False    False      False   \n",
       "Agriculture                                     False    False       True   \n",
       "Industry                                        False    False      False   \n",
       "Service                                         False    False      False   \n",
       "\n",
       "                                    Deathrate  Agriculture  Industry  Service  \n",
       "Happiness.Rank                          False        False     False    False  \n",
       "Happiness.Score                         False        False     False    False  \n",
       "Population                              False        False     False    False  \n",
       "Area (sq. mi.)                          False        False     False    False  \n",
       "Pop. Density (per sq. mi.)              False        False     False    False  \n",
       "Coastline (coast/area ratio)            False        False     False    False  \n",
       "Net migration                           False        False     False    False  \n",
       "Infant mortality (per 1000 births)      False         True     False    False  \n",
       "GDP ($ per capita)                      False        False     False    False  \n",
       "Literacy (%)                            False        False     False    False  \n",
       "Phones (per 1000)                       False        False     False    False  \n",
       "Climate                                 False        False     False    False  \n",
       "Birthrate                               False         True     False    False  \n",
       "Deathrate                                True        False     False    False  \n",
       "Agriculture                             False         True     False    False  \n",
       "Industry                                False        False      True    False  \n",
       "Service                                 False        False     False     True  "
      ]
     },
     "execution_count": 27,
     "metadata": {},
     "output_type": "execute_result"
    }
   ],
   "source": [
    "#starting to check for corrlation to find multilinearty and confounding variable\n",
    "abs(df_happy.corr())>0.7"
   ]
  },
  {
   "cell_type": "code",
   "execution_count": 28,
   "metadata": {},
   "outputs": [
    {
     "data": {
      "text/plain": [
       "Happiness.Rank                0.679832\n",
       "Happiness.Score              -0.671004\n",
       "Population                   -0.020894\n",
       "Area (sq. mi.)               -0.112560\n",
       "Pop. Density (per sq. mi.)   -0.124620\n",
       "Name: Agriculture, dtype: float64"
      ]
     },
     "execution_count": 28,
     "metadata": {},
     "output_type": "execute_result"
    }
   ],
   "source": [
    "df_happy.corr()['Agriculture'].head()"
   ]
  },
  {
   "cell_type": "code",
   "execution_count": 29,
   "metadata": {},
   "outputs": [
    {
     "data": {
      "text/plain": [
       "Happiness.Rank               -0.219667\n",
       "Happiness.Score               0.225693\n",
       "Population                   -0.025311\n",
       "Area (sq. mi.)                0.065651\n",
       "Pop. Density (per sq. mi.)    0.247035\n",
       "Name: Net migration, dtype: float64"
      ]
     },
     "execution_count": 29,
     "metadata": {},
     "output_type": "execute_result"
    }
   ],
   "source": [
    "df_happy.corr()['Net migration'].head()"
   ]
  },
  {
   "cell_type": "code",
   "execution_count": 30,
   "metadata": {
    "scrolled": false
   },
   "outputs": [
    {
     "data": {
      "text/html": [
       "<div>\n",
       "<style scoped>\n",
       "    .dataframe tbody tr th:only-of-type {\n",
       "        vertical-align: middle;\n",
       "    }\n",
       "\n",
       "    .dataframe tbody tr th {\n",
       "        vertical-align: top;\n",
       "    }\n",
       "\n",
       "    .dataframe thead th {\n",
       "        text-align: right;\n",
       "    }\n",
       "</style>\n",
       "<table border=\"1\" class=\"dataframe\">\n",
       "  <thead>\n",
       "    <tr style=\"text-align: right;\">\n",
       "      <th></th>\n",
       "      <th>Country</th>\n",
       "      <th>Happiness.Score</th>\n",
       "      <th>Region</th>\n",
       "      <th>Population</th>\n",
       "      <th>Area (sq. mi.)</th>\n",
       "      <th>Pop. Density (per sq. mi.)</th>\n",
       "      <th>Coastline (coast/area ratio)</th>\n",
       "      <th>Infant mortality (per 1000 births)</th>\n",
       "      <th>GDP ($ per capita)</th>\n",
       "      <th>Literacy (%)</th>\n",
       "      <th>Phones (per 1000)</th>\n",
       "      <th>Climate</th>\n",
       "      <th>Birthrate</th>\n",
       "      <th>Deathrate</th>\n",
       "      <th>Industry</th>\n",
       "      <th>Service</th>\n",
       "    </tr>\n",
       "  </thead>\n",
       "  <tbody>\n",
       "    <tr>\n",
       "      <th>0</th>\n",
       "      <td>Norway</td>\n",
       "      <td>7.537</td>\n",
       "      <td>WESTERN EUROPE</td>\n",
       "      <td>4610820</td>\n",
       "      <td>323802</td>\n",
       "      <td>14.2</td>\n",
       "      <td>7.77</td>\n",
       "      <td>3.70</td>\n",
       "      <td>37800.0</td>\n",
       "      <td>100.0</td>\n",
       "      <td>461.7</td>\n",
       "      <td>3.0</td>\n",
       "      <td>11.46</td>\n",
       "      <td>9.40</td>\n",
       "      <td>0.415</td>\n",
       "      <td>0.564</td>\n",
       "    </tr>\n",
       "    <tr>\n",
       "      <th>1</th>\n",
       "      <td>Denmark</td>\n",
       "      <td>7.522</td>\n",
       "      <td>WESTERN EUROPE</td>\n",
       "      <td>5450661</td>\n",
       "      <td>43094</td>\n",
       "      <td>126.5</td>\n",
       "      <td>16.97</td>\n",
       "      <td>4.56</td>\n",
       "      <td>31100.0</td>\n",
       "      <td>100.0</td>\n",
       "      <td>614.6</td>\n",
       "      <td>3.0</td>\n",
       "      <td>11.13</td>\n",
       "      <td>10.36</td>\n",
       "      <td>0.246</td>\n",
       "      <td>0.735</td>\n",
       "    </tr>\n",
       "  </tbody>\n",
       "</table>\n",
       "</div>"
      ],
      "text/plain": [
       "   Country  Happiness.Score                               Region  Population  \\\n",
       "0   Norway            7.537  WESTERN EUROPE                          4610820   \n",
       "1  Denmark            7.522  WESTERN EUROPE                          5450661   \n",
       "\n",
       "   Area (sq. mi.)  Pop. Density (per sq. mi.)  Coastline (coast/area ratio)  \\\n",
       "0          323802                        14.2                          7.77   \n",
       "1           43094                       126.5                         16.97   \n",
       "\n",
       "   Infant mortality (per 1000 births)  GDP ($ per capita)  Literacy (%)  \\\n",
       "0                                3.70             37800.0         100.0   \n",
       "1                                4.56             31100.0         100.0   \n",
       "\n",
       "   Phones (per 1000)  Climate  Birthrate  Deathrate  Industry  Service  \n",
       "0              461.7      3.0      11.46       9.40     0.415    0.564  \n",
       "1              614.6      3.0      11.13      10.36     0.246    0.735  "
      ]
     },
     "execution_count": 30,
     "metadata": {},
     "output_type": "execute_result"
    }
   ],
   "source": [
    "#I decided to drop Agriculture and Net migration (and happines_rank which is not a continuos value)\n",
    "df_happy = df_happy.drop(columns=['Happiness.Rank','Agriculture','Net migration']) \n",
    "df_happy.head(2)"
   ]
  },
  {
   "cell_type": "code",
   "execution_count": 31,
   "metadata": {},
   "outputs": [
    {
     "data": {
      "text/plain": [
       "Index(['Country', 'Happiness.Score', 'Region', 'Population', 'Area (sq. mi.)',\n",
       "       'Pop. Density (per sq. mi.)', 'Coastline (coast/area ratio)',\n",
       "       'Infant mortality (per 1000 births)', 'GDP ($ per capita)',\n",
       "       'Literacy (%)', 'Phones (per 1000)', 'Climate', 'Birthrate',\n",
       "       'Deathrate', 'Industry', 'Service'],\n",
       "      dtype='object')"
      ]
     },
     "execution_count": 31,
     "metadata": {},
     "output_type": "execute_result"
    }
   ],
   "source": [
    "#looking for problematic columns names and rename them\n",
    "df_happy.columns"
   ]
  },
  {
   "cell_type": "code",
   "execution_count": 32,
   "metadata": {},
   "outputs": [
    {
     "data": {
      "text/html": [
       "<div>\n",
       "<style scoped>\n",
       "    .dataframe tbody tr th:only-of-type {\n",
       "        vertical-align: middle;\n",
       "    }\n",
       "\n",
       "    .dataframe tbody tr th {\n",
       "        vertical-align: top;\n",
       "    }\n",
       "\n",
       "    .dataframe thead th {\n",
       "        text-align: right;\n",
       "    }\n",
       "</style>\n",
       "<table border=\"1\" class=\"dataframe\">\n",
       "  <thead>\n",
       "    <tr style=\"text-align: right;\">\n",
       "      <th></th>\n",
       "      <th>Country</th>\n",
       "      <th>Happiness_Score</th>\n",
       "      <th>Region</th>\n",
       "      <th>Population</th>\n",
       "      <th>Area</th>\n",
       "      <th>Pop_Density</th>\n",
       "      <th>Coastline</th>\n",
       "      <th>Infant_mortality</th>\n",
       "      <th>GDP</th>\n",
       "      <th>Literacy</th>\n",
       "      <th>Phones</th>\n",
       "      <th>Climate</th>\n",
       "      <th>Birthrate</th>\n",
       "      <th>Deathrate</th>\n",
       "      <th>Industry</th>\n",
       "      <th>Service</th>\n",
       "    </tr>\n",
       "  </thead>\n",
       "  <tbody>\n",
       "    <tr>\n",
       "      <th>0</th>\n",
       "      <td>Norway</td>\n",
       "      <td>7.537</td>\n",
       "      <td>WESTERN EUROPE</td>\n",
       "      <td>4610820</td>\n",
       "      <td>323802</td>\n",
       "      <td>14.2</td>\n",
       "      <td>7.77</td>\n",
       "      <td>3.70</td>\n",
       "      <td>37800.0</td>\n",
       "      <td>100.0</td>\n",
       "      <td>461.7</td>\n",
       "      <td>3.0</td>\n",
       "      <td>11.46</td>\n",
       "      <td>9.40</td>\n",
       "      <td>0.415</td>\n",
       "      <td>0.564</td>\n",
       "    </tr>\n",
       "    <tr>\n",
       "      <th>1</th>\n",
       "      <td>Denmark</td>\n",
       "      <td>7.522</td>\n",
       "      <td>WESTERN EUROPE</td>\n",
       "      <td>5450661</td>\n",
       "      <td>43094</td>\n",
       "      <td>126.5</td>\n",
       "      <td>16.97</td>\n",
       "      <td>4.56</td>\n",
       "      <td>31100.0</td>\n",
       "      <td>100.0</td>\n",
       "      <td>614.6</td>\n",
       "      <td>3.0</td>\n",
       "      <td>11.13</td>\n",
       "      <td>10.36</td>\n",
       "      <td>0.246</td>\n",
       "      <td>0.735</td>\n",
       "    </tr>\n",
       "  </tbody>\n",
       "</table>\n",
       "</div>"
      ],
      "text/plain": [
       "   Country  Happiness_Score                               Region  Population  \\\n",
       "0   Norway            7.537  WESTERN EUROPE                          4610820   \n",
       "1  Denmark            7.522  WESTERN EUROPE                          5450661   \n",
       "\n",
       "     Area  Pop_Density  Coastline  Infant_mortality      GDP  Literacy  \\\n",
       "0  323802         14.2       7.77              3.70  37800.0     100.0   \n",
       "1   43094        126.5      16.97              4.56  31100.0     100.0   \n",
       "\n",
       "   Phones  Climate  Birthrate  Deathrate  Industry  Service  \n",
       "0   461.7      3.0      11.46       9.40     0.415    0.564  \n",
       "1   614.6      3.0      11.13      10.36     0.246    0.735  "
      ]
     },
     "execution_count": 32,
     "metadata": {},
     "output_type": "execute_result"
    }
   ],
   "source": [
    "df_happy = df_happy.rename(index=str, columns={\"Area (sq. mi.)\": \"Area\", \"Pop. Density (per sq. mi.)\": \"Pop_Density\"})\n",
    "df_happy = df_happy.rename(index=str, columns={\"Infant mortality (per 1000 births)\": \"Infant mortality\", \"GDP ($ per capita)\": \"GDP\"})\n",
    "df_happy = df_happy.rename(index=str, columns = {'Coastline (coast/area ratio)':'Coastline','Infant mortality': \"Infant_mortality\"})\n",
    "df_happy = df_happy.rename(index=str, columns={\"Literacy (%)\": \"Literacy\", \"Phones (per 1000)\": \"Phones\"})\n",
    "df_happy = df_happy.rename(index=str, columns={\"Happiness.Score\":\"Happiness_Score\"})\n",
    "df_happy.head(2)"
   ]
  },
  {
   "cell_type": "code",
   "execution_count": 33,
   "metadata": {},
   "outputs": [],
   "source": [
    "import statsmodels.api as sm\n",
    "import statsmodels.formula.api as smf\n",
    "from statsmodels.formula.api import ols"
   ]
  },
  {
   "cell_type": "code",
   "execution_count": 34,
   "metadata": {},
   "outputs": [],
   "source": [
    "#getting first impression of the linear regretion\n",
    "X = 'Population + Area + Pop_Density + Coastline +Infant_mortality + GDP + Literacy + Phones + Climate + Birthrate + Deathrate + Industry + Service'"
   ]
  },
  {
   "cell_type": "code",
   "execution_count": 35,
   "metadata": {},
   "outputs": [
    {
     "data": {
      "text/html": [
       "<table class=\"simpletable\">\n",
       "<caption>OLS Regression Results</caption>\n",
       "<tr>\n",
       "  <th>Dep. Variable:</th>     <td>Happiness_Score</td> <th>  R-squared:         </th> <td>   0.735</td>\n",
       "</tr>\n",
       "<tr>\n",
       "  <th>Model:</th>                   <td>OLS</td>       <th>  Adj. R-squared:    </th> <td>   0.708</td>\n",
       "</tr>\n",
       "<tr>\n",
       "  <th>Method:</th>             <td>Least Squares</td>  <th>  F-statistic:       </th> <td>   26.86</td>\n",
       "</tr>\n",
       "<tr>\n",
       "  <th>Date:</th>             <td>Mon, 22 Apr 2019</td> <th>  Prob (F-statistic):</th> <td>3.26e-30</td>\n",
       "</tr>\n",
       "<tr>\n",
       "  <th>Time:</th>                 <td>13:54:36</td>     <th>  Log-Likelihood:    </th> <td> -123.17</td>\n",
       "</tr>\n",
       "<tr>\n",
       "  <th>No. Observations:</th>      <td>   140</td>      <th>  AIC:               </th> <td>   274.3</td>\n",
       "</tr>\n",
       "<tr>\n",
       "  <th>Df Residuals:</th>          <td>   126</td>      <th>  BIC:               </th> <td>   315.5</td>\n",
       "</tr>\n",
       "<tr>\n",
       "  <th>Df Model:</th>              <td>    13</td>      <th>                     </th>     <td> </td>   \n",
       "</tr>\n",
       "<tr>\n",
       "  <th>Covariance Type:</th>      <td>nonrobust</td>    <th>                     </th>     <td> </td>   \n",
       "</tr>\n",
       "</table>\n",
       "<table class=\"simpletable\">\n",
       "<tr>\n",
       "          <td></td>            <th>coef</th>     <th>std err</th>      <th>t</th>      <th>P>|t|</th>  <th>[0.025</th>    <th>0.975]</th>  \n",
       "</tr>\n",
       "<tr>\n",
       "  <th>Intercept</th>        <td>    3.8169</td> <td>    0.890</td> <td>    4.288</td> <td> 0.000</td> <td>    2.055</td> <td>    5.579</td>\n",
       "</tr>\n",
       "<tr>\n",
       "  <th>Population</th>       <td>-6.463e-10</td> <td> 4.08e-10</td> <td>   -1.582</td> <td> 0.116</td> <td>-1.45e-09</td> <td> 1.62e-10</td>\n",
       "</tr>\n",
       "<tr>\n",
       "  <th>Area</th>             <td> 4.434e-08</td> <td> 2.75e-08</td> <td>    1.613</td> <td> 0.109</td> <td>-1.01e-08</td> <td> 9.88e-08</td>\n",
       "</tr>\n",
       "<tr>\n",
       "  <th>Pop_Density</th>      <td>-6.157e-05</td> <td>    0.000</td> <td>   -0.562</td> <td> 0.575</td> <td>   -0.000</td> <td>    0.000</td>\n",
       "</tr>\n",
       "<tr>\n",
       "  <th>Coastline</th>        <td>    0.0014</td> <td>    0.010</td> <td>    0.137</td> <td> 0.891</td> <td>   -0.018</td> <td>    0.021</td>\n",
       "</tr>\n",
       "<tr>\n",
       "  <th>Infant_mortality</th> <td>    0.0066</td> <td>    0.004</td> <td>    1.670</td> <td> 0.097</td> <td>   -0.001</td> <td>    0.014</td>\n",
       "</tr>\n",
       "<tr>\n",
       "  <th>GDP</th>              <td> 4.323e-05</td> <td> 1.15e-05</td> <td>    3.753</td> <td> 0.000</td> <td> 2.04e-05</td> <td>  6.6e-05</td>\n",
       "</tr>\n",
       "<tr>\n",
       "  <th>Literacy</th>         <td>    0.0097</td> <td>    0.005</td> <td>    2.106</td> <td> 0.037</td> <td>    0.001</td> <td>    0.019</td>\n",
       "</tr>\n",
       "<tr>\n",
       "  <th>Phones</th>           <td>    0.0011</td> <td>    0.001</td> <td>    1.451</td> <td> 0.149</td> <td>   -0.000</td> <td>    0.003</td>\n",
       "</tr>\n",
       "<tr>\n",
       "  <th>Climate</th>          <td>   -0.0001</td> <td>    0.088</td> <td>   -0.001</td> <td> 0.999</td> <td>   -0.173</td> <td>    0.173</td>\n",
       "</tr>\n",
       "<tr>\n",
       "  <th>Birthrate</th>        <td>   -0.0089</td> <td>    0.012</td> <td>   -0.721</td> <td> 0.472</td> <td>   -0.033</td> <td>    0.016</td>\n",
       "</tr>\n",
       "<tr>\n",
       "  <th>Deathrate</th>        <td>   -0.0757</td> <td>    0.015</td> <td>   -4.955</td> <td> 0.000</td> <td>   -0.106</td> <td>   -0.045</td>\n",
       "</tr>\n",
       "<tr>\n",
       "  <th>Industry</th>         <td>    1.0590</td> <td>    0.653</td> <td>    1.622</td> <td> 0.107</td> <td>   -0.233</td> <td>    2.351</td>\n",
       "</tr>\n",
       "<tr>\n",
       "  <th>Service</th>          <td>    0.9984</td> <td>    0.754</td> <td>    1.324</td> <td> 0.188</td> <td>   -0.494</td> <td>    2.491</td>\n",
       "</tr>\n",
       "</table>\n",
       "<table class=\"simpletable\">\n",
       "<tr>\n",
       "  <th>Omnibus:</th>       <td> 0.776</td> <th>  Durbin-Watson:     </th> <td>   1.381</td>\n",
       "</tr>\n",
       "<tr>\n",
       "  <th>Prob(Omnibus):</th> <td> 0.678</td> <th>  Jarque-Bera (JB):  </th> <td>   0.895</td>\n",
       "</tr>\n",
       "<tr>\n",
       "  <th>Skew:</th>          <td>-0.156</td> <th>  Prob(JB):          </th> <td>   0.639</td>\n",
       "</tr>\n",
       "<tr>\n",
       "  <th>Kurtosis:</th>      <td> 2.764</td> <th>  Cond. No.          </th> <td>3.53e+09</td>\n",
       "</tr>\n",
       "</table><br/><br/>Warnings:<br/>[1] Standard Errors assume that the covariance matrix of the errors is correctly specified.<br/>[2] The condition number is large, 3.53e+09. This might indicate that there are<br/>strong multicollinearity or other numerical problems."
      ],
      "text/plain": [
       "<class 'statsmodels.iolib.summary.Summary'>\n",
       "\"\"\"\n",
       "                            OLS Regression Results                            \n",
       "==============================================================================\n",
       "Dep. Variable:        Happiness_Score   R-squared:                       0.735\n",
       "Model:                            OLS   Adj. R-squared:                  0.708\n",
       "Method:                 Least Squares   F-statistic:                     26.86\n",
       "Date:                Mon, 22 Apr 2019   Prob (F-statistic):           3.26e-30\n",
       "Time:                        13:54:36   Log-Likelihood:                -123.17\n",
       "No. Observations:                 140   AIC:                             274.3\n",
       "Df Residuals:                     126   BIC:                             315.5\n",
       "Df Model:                          13                                         \n",
       "Covariance Type:            nonrobust                                         \n",
       "====================================================================================\n",
       "                       coef    std err          t      P>|t|      [0.025      0.975]\n",
       "------------------------------------------------------------------------------------\n",
       "Intercept            3.8169      0.890      4.288      0.000       2.055       5.579\n",
       "Population       -6.463e-10   4.08e-10     -1.582      0.116   -1.45e-09    1.62e-10\n",
       "Area              4.434e-08   2.75e-08      1.613      0.109   -1.01e-08    9.88e-08\n",
       "Pop_Density      -6.157e-05      0.000     -0.562      0.575      -0.000       0.000\n",
       "Coastline            0.0014      0.010      0.137      0.891      -0.018       0.021\n",
       "Infant_mortality     0.0066      0.004      1.670      0.097      -0.001       0.014\n",
       "GDP               4.323e-05   1.15e-05      3.753      0.000    2.04e-05     6.6e-05\n",
       "Literacy             0.0097      0.005      2.106      0.037       0.001       0.019\n",
       "Phones               0.0011      0.001      1.451      0.149      -0.000       0.003\n",
       "Climate             -0.0001      0.088     -0.001      0.999      -0.173       0.173\n",
       "Birthrate           -0.0089      0.012     -0.721      0.472      -0.033       0.016\n",
       "Deathrate           -0.0757      0.015     -4.955      0.000      -0.106      -0.045\n",
       "Industry             1.0590      0.653      1.622      0.107      -0.233       2.351\n",
       "Service              0.9984      0.754      1.324      0.188      -0.494       2.491\n",
       "==============================================================================\n",
       "Omnibus:                        0.776   Durbin-Watson:                   1.381\n",
       "Prob(Omnibus):                  0.678   Jarque-Bera (JB):                0.895\n",
       "Skew:                          -0.156   Prob(JB):                        0.639\n",
       "Kurtosis:                       2.764   Cond. No.                     3.53e+09\n",
       "==============================================================================\n",
       "\n",
       "Warnings:\n",
       "[1] Standard Errors assume that the covariance matrix of the errors is correctly specified.\n",
       "[2] The condition number is large, 3.53e+09. This might indicate that there are\n",
       "strong multicollinearity or other numerical problems.\n",
       "\"\"\""
      ]
     },
     "execution_count": 35,
     "metadata": {},
     "output_type": "execute_result"
    }
   ],
   "source": [
    "# building a linear regression model using statsmodel \n",
    "lr_model = ols(formula='Happiness_Score ~'+X, data=df_happy).fit()\n",
    "lr_model.summary()"
   ]
  },
  {
   "cell_type": "markdown",
   "metadata": {},
   "source": [
    "we can see that most of the variables have very high p value"
   ]
  },
  {
   "cell_type": "code",
   "execution_count": 36,
   "metadata": {},
   "outputs": [
    {
     "data": {
      "text/html": [
       "<div>\n",
       "<style scoped>\n",
       "    .dataframe tbody tr th:only-of-type {\n",
       "        vertical-align: middle;\n",
       "    }\n",
       "\n",
       "    .dataframe tbody tr th {\n",
       "        vertical-align: top;\n",
       "    }\n",
       "\n",
       "    .dataframe thead th {\n",
       "        text-align: right;\n",
       "    }\n",
       "</style>\n",
       "<table border=\"1\" class=\"dataframe\">\n",
       "  <thead>\n",
       "    <tr style=\"text-align: right;\">\n",
       "      <th></th>\n",
       "      <th>Region</th>\n",
       "      <th>Population</th>\n",
       "      <th>Area</th>\n",
       "      <th>Pop_Density</th>\n",
       "      <th>Coastline</th>\n",
       "      <th>Infant_mortality</th>\n",
       "      <th>GDP</th>\n",
       "      <th>Literacy</th>\n",
       "      <th>Phones</th>\n",
       "      <th>Climate</th>\n",
       "      <th>Birthrate</th>\n",
       "      <th>Deathrate</th>\n",
       "      <th>Industry</th>\n",
       "      <th>Service</th>\n",
       "    </tr>\n",
       "  </thead>\n",
       "  <tbody>\n",
       "    <tr>\n",
       "      <th>0</th>\n",
       "      <td>WESTERN EUROPE</td>\n",
       "      <td>4610820</td>\n",
       "      <td>323802</td>\n",
       "      <td>14.2</td>\n",
       "      <td>7.77</td>\n",
       "      <td>3.70</td>\n",
       "      <td>37800.0</td>\n",
       "      <td>100.0</td>\n",
       "      <td>461.7</td>\n",
       "      <td>3.0</td>\n",
       "      <td>11.46</td>\n",
       "      <td>9.40</td>\n",
       "      <td>0.415</td>\n",
       "      <td>0.564</td>\n",
       "    </tr>\n",
       "    <tr>\n",
       "      <th>1</th>\n",
       "      <td>WESTERN EUROPE</td>\n",
       "      <td>5450661</td>\n",
       "      <td>43094</td>\n",
       "      <td>126.5</td>\n",
       "      <td>16.97</td>\n",
       "      <td>4.56</td>\n",
       "      <td>31100.0</td>\n",
       "      <td>100.0</td>\n",
       "      <td>614.6</td>\n",
       "      <td>3.0</td>\n",
       "      <td>11.13</td>\n",
       "      <td>10.36</td>\n",
       "      <td>0.246</td>\n",
       "      <td>0.735</td>\n",
       "    </tr>\n",
       "  </tbody>\n",
       "</table>\n",
       "</div>"
      ],
      "text/plain": [
       "                                Region  Population    Area  Pop_Density  \\\n",
       "0  WESTERN EUROPE                          4610820  323802         14.2   \n",
       "1  WESTERN EUROPE                          5450661   43094        126.5   \n",
       "\n",
       "   Coastline  Infant_mortality      GDP  Literacy  Phones  Climate  Birthrate  \\\n",
       "0       7.77              3.70  37800.0     100.0   461.7      3.0      11.46   \n",
       "1      16.97              4.56  31100.0     100.0   614.6      3.0      11.13   \n",
       "\n",
       "   Deathrate  Industry  Service  \n",
       "0       9.40     0.415    0.564  \n",
       "1      10.36     0.246    0.735  "
      ]
     },
     "execution_count": 36,
     "metadata": {},
     "output_type": "execute_result"
    }
   ],
   "source": [
    "# we are creating a variables dataframe\n",
    "df_var= df_happy.drop(columns=['Country', 'Happiness_Score'])\n",
    "df_var.head(2)"
   ]
  },
  {
   "cell_type": "code",
   "execution_count": 37,
   "metadata": {},
   "outputs": [
    {
     "data": {
      "image/png": "[encoded data removed]",
      "text/plain": [
       "<Figure size 864x864 with 16 Axes>"
      ]
     },
     "metadata": {
      "needs_background": "light"
     },
     "output_type": "display_data"
    }
   ],
   "source": [
    "#printing histograms of all variables\n",
    "df_var[['Region','Population','Area','Pop_Density','Coastline','Infant_mortality','GDP','Literacy','Phones','Climate','Birthrate','Deathrate','Industry','Service']].hist(figsize  = [12, 12]);\n",
    "  "
   ]
  },
  {
   "cell_type": "code",
   "execution_count": 38,
   "metadata": {},
   "outputs": [
    {
     "name": "stderr",
     "output_type": "stream",
     "text": [
      "C:\\Users\\homer\\Anaconda3\\lib\\site-packages\\scipy\\stats\\stats.py:1713: FutureWarning: Using a non-tuple sequence for multidimensional indexing is deprecated; use `arr[tuple(seq)]` instead of `arr[seq]`. In the future this will be interpreted as an array index, `arr[np.array(seq)]`, which will result either in an error or a different result.\n",
      "  return np.add.reduce(sorted[indexer] * weights, axis=axis) / sumval\n"
     ]
    },
    {
     "data": {
      "image/png": "[encoded data removed]",
      "text/plain": [
       "<Figure size 432x288 with 1 Axes>"
      ]
     },
     "metadata": {
      "needs_background": "light"
     },
     "output_type": "display_data"
    },
    {
     "data": {
      "image/png": "[encoded data removed]",
      "text/plain": [
       "<Figure size 432x288 with 1 Axes>"
      ]
     },
     "metadata": {
      "needs_background": "light"
     },
     "output_type": "display_data"
    },
    {
     "data": {
      "image/png": "[encoded data removed]",
      "text/plain": [
       "<Figure size 432x288 with 1 Axes>"
      ]
     },
     "metadata": {
      "needs_background": "light"
     },
     "output_type": "display_data"
    },
    {
     "data": {
      "image/png": "[encoded data removed]",
      "text/plain": [
       "<Figure size 432x288 with 1 Axes>"
      ]
     },
     "metadata": {
      "needs_background": "light"
     },
     "output_type": "display_data"
    },
    {
     "data": {
      "image/png": "[encoded data removed]",
      "text/plain": [
       "<Figure size 432x288 with 1 Axes>"
      ]
     },
     "metadata": {
      "needs_background": "light"
     },
     "output_type": "display_data"
    },
    {
     "data": {
      "image/png": "[encoded data removed]",
      "text/plain": [
       "<Figure size 432x288 with 1 Axes>"
      ]
     },
     "metadata": {
      "needs_background": "light"
     },
     "output_type": "display_data"
    },
    {
     "data": {
      "image/png": "[encoded data removed]",
      "text/plain": [
       "<Figure size 432x288 with 1 Axes>"
      ]
     },
     "metadata": {
      "needs_background": "light"
     },
     "output_type": "display_data"
    },
    {
     "data": {
      "image/png": "[encoded data removed]",
      "text/plain": [
       "<Figure size 432x288 with 1 Axes>"
      ]
     },
     "metadata": {
      "needs_background": "light"
     },
     "output_type": "display_data"
    },
    {
     "data": {
      "image/png": "[encoded data removed]",
      "text/plain": [
       "<Figure size 432x288 with 1 Axes>"
      ]
     },
     "metadata": {
      "needs_background": "light"
     },
     "output_type": "display_data"
    },
    {
     "data": {
      "image/png": "[encoded data removed]",
      "text/plain": [
       "<Figure size 432x288 with 1 Axes>"
      ]
     },
     "metadata": {
      "needs_background": "light"
     },
     "output_type": "display_data"
    },
    {
     "data": {
      "image/png": "[encoded data removed]",
      "text/plain": [
       "<Figure size 432x288 with 1 Axes>"
      ]
     },
     "metadata": {
      "needs_background": "light"
     },
     "output_type": "display_data"
    },
    {
     "data": {
      "image/png": "[encoded data removed]",
      "text/plain": [
       "<Figure size 432x288 with 1 Axes>"
      ]
     },
     "metadata": {
      "needs_background": "light"
     },
     "output_type": "display_data"
    },
    {
     "data": {
      "image/png": "[encoded data removed]",
      "text/plain": [
       "<Figure size 432x288 with 1 Axes>"
      ]
     },
     "metadata": {
      "needs_background": "light"
     },
     "output_type": "display_data"
    }
   ],
   "source": [
    "#Cheking the correlation of each on of the variables with the Happines Score\n",
    "df_var.columns = df_var.columns.str.strip()\n",
    "\n",
    "for i in df_var.columns:\n",
    "    if i== \"Region\":\n",
    "        pass\n",
    "    else:\n",
    "        sns.regplot(x= str(i), y=\"Happiness_Score\", data=df_happy);\n",
    "        plt.show();"
   ]
  },
  {
   "cell_type": "markdown",
   "metadata": {},
   "source": [
    "We can see many outliers in issues like population (Chine, India), Area (Russia), coastline and population density.\n",
    "Also in GDP the diffrences are significant. We will log these columns and try to get better results."
   ]
  },
  {
   "cell_type": "code",
   "execution_count": 39,
   "metadata": {},
   "outputs": [
    {
     "data": {
      "image/png": "[encoded data removed]",
      "text/plain": [
       "<Figure size 432x432 with 6 Axes>"
      ]
     },
     "metadata": {
      "needs_background": "light"
     },
     "output_type": "display_data"
    }
   ],
   "source": [
    "import numpy as np\n",
    "data_log = pd.DataFrame([])\n",
    "data_log[\"Log_Population\"] = np.log(df_happy[\"Population\"])\n",
    "data_log[\"Log_Area\"] = np.log(df_happy[\"Area\"])\n",
    "data_log[\"log_Pop_Density\"] = np.log(df_happy[\"Pop_Density\"])\n",
    "data_log[\"log_Coastline\"] = np.log(1+df_happy[\"Coastline\"])\n",
    "data_log[\"Log_GDP\"] = np.log(df_happy[\"GDP\"])\n",
    "\n",
    "data_log.hist(figsize  = [6, 6]);"
   ]
  },
  {
   "cell_type": "code",
   "execution_count": 40,
   "metadata": {},
   "outputs": [],
   "source": [
    "#the distribution look better in all of them so we will update the dataframe\n",
    "df_happy['Population'] = data_log[\"Log_Population\"]\n",
    "df_happy['Area'] = data_log[\"Log_Area\"]\n",
    "df_happy['Pop_Density']=data_log[\"log_Pop_Density\"]\n",
    "df_happy['Coastline']=data_log[\"log_Coastline\"]\n",
    "df_happy['GDP']=data_log[\"Log_GDP\"]"
   ]
  },
  {
   "cell_type": "code",
   "execution_count": 41,
   "metadata": {},
   "outputs": [
    {
     "data": {
      "image/png": "[encoded data removed]",
      "text/plain": [
       "<Figure size 432x288 with 1 Axes>"
      ]
     },
     "metadata": {
      "needs_background": "light"
     },
     "output_type": "display_data"
    },
    {
     "data": {
      "image/png": "[encoded data removed]",
      "text/plain": [
       "<Figure size 432x288 with 1 Axes>"
      ]
     },
     "metadata": {
      "needs_background": "light"
     },
     "output_type": "display_data"
    },
    {
     "data": {
      "image/png": "[encoded data removed]",
      "text/plain": [
       "<Figure size 432x288 with 1 Axes>"
      ]
     },
     "metadata": {
      "needs_background": "light"
     },
     "output_type": "display_data"
    },
    {
     "data": {
      "image/png": "[encoded data removed]",
      "text/plain": [
       "<Figure size 432x288 with 1 Axes>"
      ]
     },
     "metadata": {
      "needs_background": "light"
     },
     "output_type": "display_data"
    },
    {
     "data": {
      "image/png": "[encoded data removed]",
      "text/plain": [
       "<Figure size 432x288 with 1 Axes>"
      ]
     },
     "metadata": {
      "needs_background": "light"
     },
     "output_type": "display_data"
    }
   ],
   "source": [
    "plt.figure()\n",
    "sns.regplot(x= 'Coastline', y=\"Happiness_Score\", data=df_happy);\n",
    "plt.figure()\n",
    "sns.regplot(x= 'Population', y=\"Happiness_Score\", data=df_happy, color = 'r');\n",
    "plt.figure()\n",
    "sns.regplot(x= 'Area', y=\"Happiness_Score\", data=df_happy, color='g');\n",
    "plt.figure()\n",
    "sns.regplot(x= 'Pop_Density', y=\"Happiness_Score\", data=df_happy, color='y');\n",
    "plt.figure()\n",
    "sns.regplot(x= 'GDP', y=\"Happiness_Score\", data=df_happy, color='b');\n"
   ]
  },
  {
   "cell_type": "code",
   "execution_count": 42,
   "metadata": {},
   "outputs": [],
   "source": [
    "#only in GDP there is significant correlation (and modest one in coast line). There for we will drop area, population and density from our data frame.\n",
    "df_happy= df_happy.drop(columns=['Population', 'Area','Pop_Density'])"
   ]
  },
  {
   "cell_type": "code",
   "execution_count": 43,
   "metadata": {},
   "outputs": [
    {
     "data": {
      "image/png": "[encoded data removed]",
      "text/plain": [
       "<Figure size 432x288 with 1 Axes>"
      ]
     },
     "metadata": {
      "needs_background": "light"
     },
     "output_type": "display_data"
    }
   ],
   "source": [
    "#What about Climate?\n",
    "sns.regplot(x= \"Climate\", y=\"Happiness_Score\", data=df_happy, color='b');"
   ]
  },
  {
   "cell_type": "code",
   "execution_count": 44,
   "metadata": {},
   "outputs": [
    {
     "data": {
      "image/png": "[encoded data removed]",
      "text/plain": [
       "<Figure size 432x288 with 1 Axes>"
      ]
     },
     "metadata": {
      "needs_background": "light"
     },
     "output_type": "display_data"
    }
   ],
   "source": [
    "#and Region?\n",
    "df_regions = df_happy.groupby(['Region']).mean()\n",
    "df_regions = df_regions.reset_index()\n",
    "df_regions = df_regions[['Region','Happiness_Score']]\n",
    "df_regions.columns = df_regions.columns.str.strip()\n",
    "plt.bar('Region','Happiness_Score',data=df_regions);"
   ]
  },
  {
   "cell_type": "code",
   "execution_count": 45,
   "metadata": {},
   "outputs": [],
   "source": [
    "#Because climate and region are categorical values,  I will Convert them into dummy/indicator variables\n",
    "climate_dummies = pd.get_dummies(df_happy[\"Climate\"], prefix=\"climate\")\n",
    "region_dummies= pd.get_dummies(df_happy[\"Region\"], prefix=\"region\")"
   ]
  },
  {
   "cell_type": "code",
   "execution_count": 46,
   "metadata": {},
   "outputs": [
    {
     "data": {
      "text/plain": [
       "Index(['region_ASIA (EX. NEAR EAST)', 'region_BALTICS',\n",
       "       'region_C.W. OF IND. STATES', 'region_EASTERN EUROPE',\n",
       "       'region_LATIN AMER. & CARIB', 'region_NEAR EAST',\n",
       "       'region_NORTHERN AFRICA', 'region_NORTHERN AMERICA', 'region_OCEANIA',\n",
       "       'region_SUB-SAHARAN AFRICA', 'region_WESTERN EUROPE'],\n",
       "      dtype='object')"
      ]
     },
     "execution_count": 46,
     "metadata": {},
     "output_type": "execute_result"
    }
   ],
   "source": [
    "#I will clean the titles from gaps\n",
    "region_dummies.columns  = region_dummies.columns.str.strip()\n",
    "region_dummies.columns"
   ]
  },
  {
   "cell_type": "code",
   "execution_count": 47,
   "metadata": {},
   "outputs": [],
   "source": [
    "#dropping the original columns\n",
    "df_happy= df_happy.drop([\"Climate\",\"Region\"], axis=1)"
   ]
  },
  {
   "cell_type": "code",
   "execution_count": 48,
   "metadata": {},
   "outputs": [
    {
     "data": {
      "text/html": [
       "<div>\n",
       "<style scoped>\n",
       "    .dataframe tbody tr th:only-of-type {\n",
       "        vertical-align: middle;\n",
       "    }\n",
       "\n",
       "    .dataframe tbody tr th {\n",
       "        vertical-align: top;\n",
       "    }\n",
       "\n",
       "    .dataframe thead th {\n",
       "        text-align: right;\n",
       "    }\n",
       "</style>\n",
       "<table border=\"1\" class=\"dataframe\">\n",
       "  <thead>\n",
       "    <tr style=\"text-align: right;\">\n",
       "      <th></th>\n",
       "      <th>Country</th>\n",
       "      <th>Happiness_Score</th>\n",
       "      <th>Coastline</th>\n",
       "      <th>Infant_mortality</th>\n",
       "      <th>GDP</th>\n",
       "      <th>Literacy</th>\n",
       "      <th>Phones</th>\n",
       "      <th>Birthrate</th>\n",
       "      <th>Deathrate</th>\n",
       "      <th>Industry</th>\n",
       "      <th>...</th>\n",
       "      <th>region_BALTICS</th>\n",
       "      <th>region_C.W. OF IND. STATES</th>\n",
       "      <th>region_EASTERN EUROPE</th>\n",
       "      <th>region_LATIN AMER. &amp; CARIB</th>\n",
       "      <th>region_NEAR EAST</th>\n",
       "      <th>region_NORTHERN AFRICA</th>\n",
       "      <th>region_NORTHERN AMERICA</th>\n",
       "      <th>region_OCEANIA</th>\n",
       "      <th>region_SUB-SAHARAN AFRICA</th>\n",
       "      <th>region_WESTERN EUROPE</th>\n",
       "    </tr>\n",
       "  </thead>\n",
       "  <tbody>\n",
       "    <tr>\n",
       "      <th>0</th>\n",
       "      <td>Norway</td>\n",
       "      <td>7.537</td>\n",
       "      <td>2.171337</td>\n",
       "      <td>3.70</td>\n",
       "      <td>10.540064</td>\n",
       "      <td>100.0</td>\n",
       "      <td>461.7</td>\n",
       "      <td>11.46</td>\n",
       "      <td>9.40</td>\n",
       "      <td>0.415</td>\n",
       "      <td>...</td>\n",
       "      <td>0</td>\n",
       "      <td>0</td>\n",
       "      <td>0</td>\n",
       "      <td>0</td>\n",
       "      <td>0</td>\n",
       "      <td>0</td>\n",
       "      <td>0</td>\n",
       "      <td>0</td>\n",
       "      <td>0</td>\n",
       "      <td>1</td>\n",
       "    </tr>\n",
       "    <tr>\n",
       "      <th>1</th>\n",
       "      <td>Denmark</td>\n",
       "      <td>7.522</td>\n",
       "      <td>2.888704</td>\n",
       "      <td>4.56</td>\n",
       "      <td>10.344963</td>\n",
       "      <td>100.0</td>\n",
       "      <td>614.6</td>\n",
       "      <td>11.13</td>\n",
       "      <td>10.36</td>\n",
       "      <td>0.246</td>\n",
       "      <td>...</td>\n",
       "      <td>0</td>\n",
       "      <td>0</td>\n",
       "      <td>0</td>\n",
       "      <td>0</td>\n",
       "      <td>0</td>\n",
       "      <td>0</td>\n",
       "      <td>0</td>\n",
       "      <td>0</td>\n",
       "      <td>0</td>\n",
       "      <td>1</td>\n",
       "    </tr>\n",
       "    <tr>\n",
       "      <th>2</th>\n",
       "      <td>Iceland</td>\n",
       "      <td>7.504</td>\n",
       "      <td>1.763017</td>\n",
       "      <td>3.31</td>\n",
       "      <td>10.338511</td>\n",
       "      <td>99.9</td>\n",
       "      <td>647.7</td>\n",
       "      <td>13.64</td>\n",
       "      <td>6.72</td>\n",
       "      <td>0.150</td>\n",
       "      <td>...</td>\n",
       "      <td>0</td>\n",
       "      <td>0</td>\n",
       "      <td>0</td>\n",
       "      <td>0</td>\n",
       "      <td>0</td>\n",
       "      <td>0</td>\n",
       "      <td>0</td>\n",
       "      <td>0</td>\n",
       "      <td>0</td>\n",
       "      <td>1</td>\n",
       "    </tr>\n",
       "  </tbody>\n",
       "</table>\n",
       "<p>3 rows × 28 columns</p>\n",
       "</div>"
      ],
      "text/plain": [
       "   Country  Happiness_Score  Coastline  Infant_mortality        GDP  Literacy  \\\n",
       "0   Norway            7.537   2.171337              3.70  10.540064     100.0   \n",
       "1  Denmark            7.522   2.888704              4.56  10.344963     100.0   \n",
       "2  Iceland            7.504   1.763017              3.31  10.338511      99.9   \n",
       "\n",
       "   Phones  Birthrate  Deathrate  Industry          ...            \\\n",
       "0   461.7      11.46       9.40     0.415          ...             \n",
       "1   614.6      11.13      10.36     0.246          ...             \n",
       "2   647.7      13.64       6.72     0.150          ...             \n",
       "\n",
       "   region_BALTICS  region_C.W. OF IND. STATES  region_EASTERN EUROPE  \\\n",
       "0               0                           0                      0   \n",
       "1               0                           0                      0   \n",
       "2               0                           0                      0   \n",
       "\n",
       "   region_LATIN AMER. & CARIB  region_NEAR EAST  region_NORTHERN AFRICA  \\\n",
       "0                           0                 0                       0   \n",
       "1                           0                 0                       0   \n",
       "2                           0                 0                       0   \n",
       "\n",
       "   region_NORTHERN AMERICA  region_OCEANIA  region_SUB-SAHARAN AFRICA  \\\n",
       "0                        0               0                          0   \n",
       "1                        0               0                          0   \n",
       "2                        0               0                          0   \n",
       "\n",
       "   region_WESTERN EUROPE  \n",
       "0                      1  \n",
       "1                      1  \n",
       "2                      1  \n",
       "\n",
       "[3 rows x 28 columns]"
      ]
     },
     "execution_count": 48,
     "metadata": {},
     "output_type": "execute_result"
    }
   ],
   "source": [
    "#add the nee dummy columns to the working Dataframe\n",
    "df_happy=pd.concat([df_happy,climate_dummies,region_dummies],axis=1)\n",
    "df_happy.head(3)"
   ]
  },
  {
   "cell_type": "code",
   "execution_count": 49,
   "metadata": {},
   "outputs": [],
   "source": [
    "#renaming the columns\n",
    "df_happy = df_happy.rename(index=str, columns={\"climate_1.0\":\"climate_1\",\"climate_1.5\":\"climate_1_5\"})\n",
    "df_happy = df_happy.rename(index=str, columns={\"climate_2.0\":\"climate_2\",\"climate_2.5\":\"climate_2_5\"})\n",
    "df_happy = df_happy.rename(index=str, columns={\"climate_3.0\":\"climate_3\",\"climate_4.0\":\"climate_4\"})\n",
    "df_happy = df_happy.rename(index=str, columns={\"region_ASIA (EX. NEAR EAST)\":\"region_ASIA\",\"region_C.W. OF IND. STATES\":\"region_IND_STATES\"})\n",
    "df_happy = df_happy.rename(index=str, columns={\"region_EASTERN EUROPE\":\"region_EASTERN_EUROPE\",\"region_LATIN AMER. & CARIB\":\"region_LATIN_AMER_CARIB\"})\n",
    "df_happy = df_happy.rename(index=str, columns={\"region_NEAR EAST\":\"region_NEAR_EAST\",\"region_NORTHERN AFRICA\":\"region_NORTHERN_AFRICA\"})\n",
    "df_happy = df_happy.rename(index=str, columns={\"region_NORTHERN AMERICA\":\"region_NORTHERN_AMERICA\",\"region_SUB-SAHARAN AFRICA\":\"region_SUB_SAHARAN_AFRICA\"})      \n",
    "df_happy = df_happy.rename(index=str, columns={\"region_WESTERN EUROPE\":\"region_WESTERN_EUROPE\"})          "
   ]
  },
  {
   "cell_type": "code",
   "execution_count": 50,
   "metadata": {},
   "outputs": [
    {
     "data": {
      "text/plain": [
       "Index(['Country', 'Happiness_Score', 'Coastline', 'Infant_mortality', 'GDP',\n",
       "       'Literacy', 'Phones', 'Birthrate', 'Deathrate', 'Industry', 'Service',\n",
       "       'climate_1', 'climate_1_5', 'climate_2', 'climate_2_5', 'climate_3',\n",
       "       'climate_4', 'region_ASIA', 'region_BALTICS', 'region_IND_STATES',\n",
       "       'region_EASTERN_EUROPE', 'region_LATIN_AMER_CARIB', 'region_NEAR_EAST',\n",
       "       'region_NORTHERN_AFRICA', 'region_NORTHERN_AMERICA', 'region_OCEANIA',\n",
       "       'region_SUB_SAHARAN_AFRICA', 'region_WESTERN_EUROPE'],\n",
       "      dtype='object')"
      ]
     },
     "execution_count": 50,
     "metadata": {},
     "output_type": "execute_result"
    }
   ],
   "source": [
    "df_happy.columns"
   ]
  },
  {
   "cell_type": "code",
   "execution_count": 51,
   "metadata": {},
   "outputs": [],
   "source": [
    "#dropping one dummy and prepare the data for the ols test\n",
    "d_climate = 'climate_1 + climate_1_5+ climate_2 + climate_3 + climate_4+'\n",
    "d_region = 'region_ASIA + region_IND_STATES +region_EASTERN_EUROPE + region_LATIN_AMER_CARIB + region_NEAR_EAST + region_NORTHERN_AFRICA + region_NORTHERN_AMERICA + region_OCEANIA +region_SUB_SAHARAN_AFRICA + region_WESTERN_EUROPE'"
   ]
  },
  {
   "cell_type": "code",
   "execution_count": 52,
   "metadata": {},
   "outputs": [],
   "source": [
    "X = 'Coastline +Infant_mortality + GDP + Literacy + Phones + Birthrate + Deathrate + Industry + Service+'+d_climate+d_region"
   ]
  },
  {
   "cell_type": "code",
   "execution_count": 53,
   "metadata": {},
   "outputs": [
    {
     "data": {
      "text/html": [
       "<table class=\"simpletable\">\n",
       "<caption>OLS Regression Results</caption>\n",
       "<tr>\n",
       "  <th>Dep. Variable:</th>     <td>Happiness_Score</td> <th>  R-squared:         </th> <td>   0.778</td>\n",
       "</tr>\n",
       "<tr>\n",
       "  <th>Model:</th>                   <td>OLS</td>       <th>  Adj. R-squared:    </th> <td>   0.731</td>\n",
       "</tr>\n",
       "<tr>\n",
       "  <th>Method:</th>             <td>Least Squares</td>  <th>  F-statistic:       </th> <td>   16.75</td>\n",
       "</tr>\n",
       "<tr>\n",
       "  <th>Date:</th>             <td>Mon, 22 Apr 2019</td> <th>  Prob (F-statistic):</th> <td>3.25e-27</td>\n",
       "</tr>\n",
       "<tr>\n",
       "  <th>Time:</th>                 <td>13:54:53</td>     <th>  Log-Likelihood:    </th> <td> -110.88</td>\n",
       "</tr>\n",
       "<tr>\n",
       "  <th>No. Observations:</th>      <td>   140</td>      <th>  AIC:               </th> <td>   271.8</td>\n",
       "</tr>\n",
       "<tr>\n",
       "  <th>Df Residuals:</th>          <td>   115</td>      <th>  BIC:               </th> <td>   345.3</td>\n",
       "</tr>\n",
       "<tr>\n",
       "  <th>Df Model:</th>              <td>    24</td>      <th>                     </th>     <td> </td>   \n",
       "</tr>\n",
       "<tr>\n",
       "  <th>Covariance Type:</th>      <td>nonrobust</td>    <th>                     </th>     <td> </td>   \n",
       "</tr>\n",
       "</table>\n",
       "<table class=\"simpletable\">\n",
       "<tr>\n",
       "              <td></td>                 <th>coef</th>     <th>std err</th>      <th>t</th>      <th>P>|t|</th>  <th>[0.025</th>    <th>0.975]</th>  \n",
       "</tr>\n",
       "<tr>\n",
       "  <th>Intercept</th>                 <td>    0.6329</td> <td>    1.353</td> <td>    0.468</td> <td> 0.641</td> <td>   -2.047</td> <td>    3.313</td>\n",
       "</tr>\n",
       "<tr>\n",
       "  <th>Coastline</th>                 <td>   -0.0518</td> <td>    0.076</td> <td>   -0.685</td> <td> 0.495</td> <td>   -0.201</td> <td>    0.098</td>\n",
       "</tr>\n",
       "<tr>\n",
       "  <th>Infant_mortality</th>          <td>    0.0073</td> <td>    0.004</td> <td>    1.677</td> <td> 0.096</td> <td>   -0.001</td> <td>    0.016</td>\n",
       "</tr>\n",
       "<tr>\n",
       "  <th>GDP</th>                       <td>    0.5107</td> <td>    0.138</td> <td>    3.703</td> <td> 0.000</td> <td>    0.238</td> <td>    0.784</td>\n",
       "</tr>\n",
       "<tr>\n",
       "  <th>Literacy</th>                  <td>    0.0053</td> <td>    0.005</td> <td>    1.003</td> <td> 0.318</td> <td>   -0.005</td> <td>    0.016</td>\n",
       "</tr>\n",
       "<tr>\n",
       "  <th>Phones</th>                    <td>    0.0018</td> <td>    0.001</td> <td>    2.435</td> <td> 0.016</td> <td>    0.000</td> <td>    0.003</td>\n",
       "</tr>\n",
       "<tr>\n",
       "  <th>Birthrate</th>                 <td>    0.0059</td> <td>    0.015</td> <td>    0.381</td> <td> 0.704</td> <td>   -0.025</td> <td>    0.036</td>\n",
       "</tr>\n",
       "<tr>\n",
       "  <th>Deathrate</th>                 <td>   -0.0574</td> <td>    0.022</td> <td>   -2.635</td> <td> 0.010</td> <td>   -0.101</td> <td>   -0.014</td>\n",
       "</tr>\n",
       "<tr>\n",
       "  <th>Industry</th>                  <td>    0.1962</td> <td>    0.744</td> <td>    0.264</td> <td> 0.792</td> <td>   -1.278</td> <td>    1.670</td>\n",
       "</tr>\n",
       "<tr>\n",
       "  <th>Service</th>                   <td>   -0.2522</td> <td>    0.794</td> <td>   -0.318</td> <td> 0.751</td> <td>   -1.825</td> <td>    1.320</td>\n",
       "</tr>\n",
       "<tr>\n",
       "  <th>climate_1</th>                 <td>    0.2090</td> <td>    0.460</td> <td>    0.454</td> <td> 0.651</td> <td>   -0.703</td> <td>    1.121</td>\n",
       "</tr>\n",
       "<tr>\n",
       "  <th>climate_1_5</th>               <td>    0.4920</td> <td>    0.516</td> <td>    0.954</td> <td> 0.342</td> <td>   -0.530</td> <td>    1.514</td>\n",
       "</tr>\n",
       "<tr>\n",
       "  <th>climate_2</th>                 <td>    0.1934</td> <td>    0.458</td> <td>    0.422</td> <td> 0.674</td> <td>   -0.714</td> <td>    1.101</td>\n",
       "</tr>\n",
       "<tr>\n",
       "  <th>climate_3</th>                 <td>    0.1006</td> <td>    0.476</td> <td>    0.212</td> <td> 0.833</td> <td>   -0.841</td> <td>    1.043</td>\n",
       "</tr>\n",
       "<tr>\n",
       "  <th>climate_4</th>                 <td>    0.2996</td> <td>    0.519</td> <td>    0.577</td> <td> 0.565</td> <td>   -0.729</td> <td>    1.328</td>\n",
       "</tr>\n",
       "<tr>\n",
       "  <th>region_ASIA</th>               <td>   -0.4258</td> <td>    0.419</td> <td>   -1.017</td> <td> 0.311</td> <td>   -1.255</td> <td>    0.404</td>\n",
       "</tr>\n",
       "<tr>\n",
       "  <th>region_IND_STATES</th>         <td>   -0.3216</td> <td>    0.463</td> <td>   -0.694</td> <td> 0.489</td> <td>   -1.239</td> <td>    0.596</td>\n",
       "</tr>\n",
       "<tr>\n",
       "  <th>region_EASTERN_EUROPE</th>     <td>   -0.2981</td> <td>    0.390</td> <td>   -0.764</td> <td> 0.447</td> <td>   -1.071</td> <td>    0.475</td>\n",
       "</tr>\n",
       "<tr>\n",
       "  <th>region_LATIN_AMER_CARIB</th>   <td>    0.1622</td> <td>    0.412</td> <td>    0.393</td> <td> 0.695</td> <td>   -0.655</td> <td>    0.979</td>\n",
       "</tr>\n",
       "<tr>\n",
       "  <th>region_NEAR_EAST</th>          <td>   -0.6208</td> <td>    0.442</td> <td>   -1.404</td> <td> 0.163</td> <td>   -1.496</td> <td>    0.255</td>\n",
       "</tr>\n",
       "<tr>\n",
       "  <th>region_NORTHERN_AFRICA</th>    <td>   -0.5376</td> <td>    0.496</td> <td>   -1.083</td> <td> 0.281</td> <td>   -1.521</td> <td>    0.446</td>\n",
       "</tr>\n",
       "<tr>\n",
       "  <th>region_NORTHERN_AMERICA</th>   <td>   -0.2172</td> <td>    0.631</td> <td>   -0.344</td> <td> 0.731</td> <td>   -1.467</td> <td>    1.032</td>\n",
       "</tr>\n",
       "<tr>\n",
       "  <th>region_OCEANIA</th>            <td>    0.3914</td> <td>    0.581</td> <td>    0.674</td> <td> 0.502</td> <td>   -0.759</td> <td>    1.542</td>\n",
       "</tr>\n",
       "<tr>\n",
       "  <th>region_SUB_SAHARAN_AFRICA</th> <td>   -0.6270</td> <td>    0.444</td> <td>   -1.412</td> <td> 0.161</td> <td>   -1.507</td> <td>    0.253</td>\n",
       "</tr>\n",
       "<tr>\n",
       "  <th>region_WESTERN_EUROPE</th>     <td>   -0.0212</td> <td>    0.410</td> <td>   -0.052</td> <td> 0.959</td> <td>   -0.834</td> <td>    0.791</td>\n",
       "</tr>\n",
       "</table>\n",
       "<table class=\"simpletable\">\n",
       "<tr>\n",
       "  <th>Omnibus:</th>       <td> 2.438</td> <th>  Durbin-Watson:     </th> <td>   1.380</td>\n",
       "</tr>\n",
       "<tr>\n",
       "  <th>Prob(Omnibus):</th> <td> 0.296</td> <th>  Jarque-Bera (JB):  </th> <td>   1.970</td>\n",
       "</tr>\n",
       "<tr>\n",
       "  <th>Skew:</th>          <td>-0.267</td> <th>  Prob(JB):          </th> <td>   0.373</td>\n",
       "</tr>\n",
       "<tr>\n",
       "  <th>Kurtosis:</th>      <td> 3.229</td> <th>  Cond. No.          </th> <td>8.59e+03</td>\n",
       "</tr>\n",
       "</table><br/><br/>Warnings:<br/>[1] Standard Errors assume that the covariance matrix of the errors is correctly specified.<br/>[2] The condition number is large, 8.59e+03. This might indicate that there are<br/>strong multicollinearity or other numerical problems."
      ],
      "text/plain": [
       "<class 'statsmodels.iolib.summary.Summary'>\n",
       "\"\"\"\n",
       "                            OLS Regression Results                            \n",
       "==============================================================================\n",
       "Dep. Variable:        Happiness_Score   R-squared:                       0.778\n",
       "Model:                            OLS   Adj. R-squared:                  0.731\n",
       "Method:                 Least Squares   F-statistic:                     16.75\n",
       "Date:                Mon, 22 Apr 2019   Prob (F-statistic):           3.25e-27\n",
       "Time:                        13:54:53   Log-Likelihood:                -110.88\n",
       "No. Observations:                 140   AIC:                             271.8\n",
       "Df Residuals:                     115   BIC:                             345.3\n",
       "Df Model:                          24                                         \n",
       "Covariance Type:            nonrobust                                         \n",
       "=============================================================================================\n",
       "                                coef    std err          t      P>|t|      [0.025      0.975]\n",
       "---------------------------------------------------------------------------------------------\n",
       "Intercept                     0.6329      1.353      0.468      0.641      -2.047       3.313\n",
       "Coastline                    -0.0518      0.076     -0.685      0.495      -0.201       0.098\n",
       "Infant_mortality              0.0073      0.004      1.677      0.096      -0.001       0.016\n",
       "GDP                           0.5107      0.138      3.703      0.000       0.238       0.784\n",
       "Literacy                      0.0053      0.005      1.003      0.318      -0.005       0.016\n",
       "Phones                        0.0018      0.001      2.435      0.016       0.000       0.003\n",
       "Birthrate                     0.0059      0.015      0.381      0.704      -0.025       0.036\n",
       "Deathrate                    -0.0574      0.022     -2.635      0.010      -0.101      -0.014\n",
       "Industry                      0.1962      0.744      0.264      0.792      -1.278       1.670\n",
       "Service                      -0.2522      0.794     -0.318      0.751      -1.825       1.320\n",
       "climate_1                     0.2090      0.460      0.454      0.651      -0.703       1.121\n",
       "climate_1_5                   0.4920      0.516      0.954      0.342      -0.530       1.514\n",
       "climate_2                     0.1934      0.458      0.422      0.674      -0.714       1.101\n",
       "climate_3                     0.1006      0.476      0.212      0.833      -0.841       1.043\n",
       "climate_4                     0.2996      0.519      0.577      0.565      -0.729       1.328\n",
       "region_ASIA                  -0.4258      0.419     -1.017      0.311      -1.255       0.404\n",
       "region_IND_STATES            -0.3216      0.463     -0.694      0.489      -1.239       0.596\n",
       "region_EASTERN_EUROPE        -0.2981      0.390     -0.764      0.447      -1.071       0.475\n",
       "region_LATIN_AMER_CARIB       0.1622      0.412      0.393      0.695      -0.655       0.979\n",
       "region_NEAR_EAST             -0.6208      0.442     -1.404      0.163      -1.496       0.255\n",
       "region_NORTHERN_AFRICA       -0.5376      0.496     -1.083      0.281      -1.521       0.446\n",
       "region_NORTHERN_AMERICA      -0.2172      0.631     -0.344      0.731      -1.467       1.032\n",
       "region_OCEANIA                0.3914      0.581      0.674      0.502      -0.759       1.542\n",
       "region_SUB_SAHARAN_AFRICA    -0.6270      0.444     -1.412      0.161      -1.507       0.253\n",
       "region_WESTERN_EUROPE        -0.0212      0.410     -0.052      0.959      -0.834       0.791\n",
       "==============================================================================\n",
       "Omnibus:                        2.438   Durbin-Watson:                   1.380\n",
       "Prob(Omnibus):                  0.296   Jarque-Bera (JB):                1.970\n",
       "Skew:                          -0.267   Prob(JB):                        0.373\n",
       "Kurtosis:                       3.229   Cond. No.                     8.59e+03\n",
       "==============================================================================\n",
       "\n",
       "Warnings:\n",
       "[1] Standard Errors assume that the covariance matrix of the errors is correctly specified.\n",
       "[2] The condition number is large, 8.59e+03. This might indicate that there are\n",
       "strong multicollinearity or other numerical problems.\n",
       "\"\"\""
      ]
     },
     "execution_count": 53,
     "metadata": {},
     "output_type": "execute_result"
    }
   ],
   "source": [
    "lr_model = ols(formula='Happiness_Score ~'+X , data=df_happy).fit()\n",
    "lr_model.summary()"
   ]
  },
  {
   "cell_type": "markdown",
   "metadata": {},
   "source": [
    "It seems like none of the dummies is signifcant and they all have high p value (apart of region_SUB_SAHARAN_AFRICA which I will keep for now)"
   ]
  },
  {
   "cell_type": "code",
   "execution_count": 54,
   "metadata": {},
   "outputs": [],
   "source": [
    "# GDP and Phones has very high correlation (0.86). I will try to create a new joint variable and see if it impoves the results\n",
    "df_happy[\"GDP_interact\"] = df_happy[\"GDP\"] * (df_happy[\"Phones\"]/100)"
   ]
  },
  {
   "cell_type": "markdown",
   "metadata": {},
   "source": [
    "I will choose only the variable with low p value, scale them (min-max) and have a a new ols"
   ]
  },
  {
   "cell_type": "code",
   "execution_count": 55,
   "metadata": {},
   "outputs": [],
   "source": [
    "df_happy['scaled_GDP_interact'] = (df_happy['GDP_interact']-df_happy['GDP_interact'].min())/(df_happy['GDP_interact'].max()-df_happy['GDP_interact'].min())"
   ]
  },
  {
   "cell_type": "code",
   "execution_count": 56,
   "metadata": {},
   "outputs": [],
   "source": [
    "df_happy['scaled_Literacy'] = (df_happy['Literacy']-df_happy['Literacy'].min())/(df_happy['Literacy'].max()-df_happy['Literacy'].min())"
   ]
  },
  {
   "cell_type": "code",
   "execution_count": 57,
   "metadata": {},
   "outputs": [],
   "source": [
    "df_happy['scaled_Deathrate'] = (df_happy['Deathrate']-df_happy['Deathrate'].min())/(df_happy['Deathrate'].max()-df_happy['Deathrate'].min())"
   ]
  },
  {
   "cell_type": "code",
   "execution_count": 58,
   "metadata": {},
   "outputs": [],
   "source": [
    "df_happy['scaled_Infant_m'] = (df_happy['Infant_mortality']-df_happy['Infant_mortality'].min())/(df_happy['Infant_mortality'].max()-df_happy['Infant_mortality'].min())"
   ]
  },
  {
   "cell_type": "code",
   "execution_count": 59,
   "metadata": {},
   "outputs": [],
   "source": [
    "\n",
    "X = 'scaled_GDP_interact + scaled_Deathrate+ scaled_Literacy'"
   ]
  },
  {
   "cell_type": "code",
   "execution_count": 60,
   "metadata": {},
   "outputs": [
    {
     "data": {
      "text/html": [
       "<table class=\"simpletable\">\n",
       "<caption>OLS Regression Results</caption>\n",
       "<tr>\n",
       "  <th>Dep. Variable:</th>     <td>Happiness_Score</td> <th>  R-squared:         </th> <td>   0.688</td>\n",
       "</tr>\n",
       "<tr>\n",
       "  <th>Model:</th>                   <td>OLS</td>       <th>  Adj. R-squared:    </th> <td>   0.681</td>\n",
       "</tr>\n",
       "<tr>\n",
       "  <th>Method:</th>             <td>Least Squares</td>  <th>  F-statistic:       </th> <td>   99.89</td>\n",
       "</tr>\n",
       "<tr>\n",
       "  <th>Date:</th>             <td>Mon, 22 Apr 2019</td> <th>  Prob (F-statistic):</th> <td>3.23e-34</td>\n",
       "</tr>\n",
       "<tr>\n",
       "  <th>Time:</th>                 <td>13:54:54</td>     <th>  Log-Likelihood:    </th> <td> -134.60</td>\n",
       "</tr>\n",
       "<tr>\n",
       "  <th>No. Observations:</th>      <td>   140</td>      <th>  AIC:               </th> <td>   277.2</td>\n",
       "</tr>\n",
       "<tr>\n",
       "  <th>Df Residuals:</th>          <td>   136</td>      <th>  BIC:               </th> <td>   289.0</td>\n",
       "</tr>\n",
       "<tr>\n",
       "  <th>Df Model:</th>              <td>     3</td>      <th>                     </th>     <td> </td>   \n",
       "</tr>\n",
       "<tr>\n",
       "  <th>Covariance Type:</th>      <td>nonrobust</td>    <th>                     </th>     <td> </td>   \n",
       "</tr>\n",
       "</table>\n",
       "<table class=\"simpletable\">\n",
       "<tr>\n",
       "           <td></td>              <th>coef</th>     <th>std err</th>      <th>t</th>      <th>P>|t|</th>  <th>[0.025</th>    <th>0.975]</th>  \n",
       "</tr>\n",
       "<tr>\n",
       "  <th>Intercept</th>           <td>    4.6531</td> <td>    0.236</td> <td>   19.758</td> <td> 0.000</td> <td>    4.187</td> <td>    5.119</td>\n",
       "</tr>\n",
       "<tr>\n",
       "  <th>scaled_GDP_interact</th> <td>    2.9937</td> <td>    0.315</td> <td>    9.500</td> <td> 0.000</td> <td>    2.371</td> <td>    3.617</td>\n",
       "</tr>\n",
       "<tr>\n",
       "  <th>scaled_Deathrate</th>    <td>   -1.7059</td> <td>    0.298</td> <td>   -5.727</td> <td> 0.000</td> <td>   -2.295</td> <td>   -1.117</td>\n",
       "</tr>\n",
       "<tr>\n",
       "  <th>scaled_Literacy</th>     <td>    0.8129</td> <td>    0.279</td> <td>    2.914</td> <td> 0.004</td> <td>    0.261</td> <td>    1.365</td>\n",
       "</tr>\n",
       "</table>\n",
       "<table class=\"simpletable\">\n",
       "<tr>\n",
       "  <th>Omnibus:</th>       <td> 4.186</td> <th>  Durbin-Watson:     </th> <td>   1.235</td>\n",
       "</tr>\n",
       "<tr>\n",
       "  <th>Prob(Omnibus):</th> <td> 0.123</td> <th>  Jarque-Bera (JB):  </th> <td>   4.148</td>\n",
       "</tr>\n",
       "<tr>\n",
       "  <th>Skew:</th>          <td>-0.419</td> <th>  Prob(JB):          </th> <td>   0.126</td>\n",
       "</tr>\n",
       "<tr>\n",
       "  <th>Kurtosis:</th>      <td> 2.898</td> <th>  Cond. No.          </th> <td>    10.3</td>\n",
       "</tr>\n",
       "</table><br/><br/>Warnings:<br/>[1] Standard Errors assume that the covariance matrix of the errors is correctly specified."
      ],
      "text/plain": [
       "<class 'statsmodels.iolib.summary.Summary'>\n",
       "\"\"\"\n",
       "                            OLS Regression Results                            \n",
       "==============================================================================\n",
       "Dep. Variable:        Happiness_Score   R-squared:                       0.688\n",
       "Model:                            OLS   Adj. R-squared:                  0.681\n",
       "Method:                 Least Squares   F-statistic:                     99.89\n",
       "Date:                Mon, 22 Apr 2019   Prob (F-statistic):           3.23e-34\n",
       "Time:                        13:54:54   Log-Likelihood:                -134.60\n",
       "No. Observations:                 140   AIC:                             277.2\n",
       "Df Residuals:                     136   BIC:                             289.0\n",
       "Df Model:                           3                                         \n",
       "Covariance Type:            nonrobust                                         \n",
       "=======================================================================================\n",
       "                          coef    std err          t      P>|t|      [0.025      0.975]\n",
       "---------------------------------------------------------------------------------------\n",
       "Intercept               4.6531      0.236     19.758      0.000       4.187       5.119\n",
       "scaled_GDP_interact     2.9937      0.315      9.500      0.000       2.371       3.617\n",
       "scaled_Deathrate       -1.7059      0.298     -5.727      0.000      -2.295      -1.117\n",
       "scaled_Literacy         0.8129      0.279      2.914      0.004       0.261       1.365\n",
       "==============================================================================\n",
       "Omnibus:                        4.186   Durbin-Watson:                   1.235\n",
       "Prob(Omnibus):                  0.123   Jarque-Bera (JB):                4.148\n",
       "Skew:                          -0.419   Prob(JB):                        0.126\n",
       "Kurtosis:                       2.898   Cond. No.                         10.3\n",
       "==============================================================================\n",
       "\n",
       "Warnings:\n",
       "[1] Standard Errors assume that the covariance matrix of the errors is correctly specified.\n",
       "\"\"\""
      ]
     },
     "execution_count": 60,
     "metadata": {},
     "output_type": "execute_result"
    }
   ],
   "source": [
    "lr_model = ols(formula='Happiness_Score ~'+X , data=df_happy).fit()\n",
    "lr_model.summary()"
   ]
  },
  {
   "cell_type": "code",
   "execution_count": 61,
   "metadata": {},
   "outputs": [
    {
     "data": {
      "image/png": "[encoded data removed]",
      "text/plain": [
       "<Figure size 432x288 with 1 Axes>"
      ]
     },
     "metadata": {
      "needs_background": "light"
     },
     "output_type": "display_data"
    },
    {
     "data": {
      "image/png": "[encoded data removed]",
      "text/plain": [
       "<Figure size 432x288 with 1 Axes>"
      ]
     },
     "metadata": {
      "needs_background": "light"
     },
     "output_type": "display_data"
    },
    {
     "data": {
      "image/png": "[encoded data removed]",
      "text/plain": [
       "<Figure size 432x288 with 1 Axes>"
      ]
     },
     "metadata": {
      "needs_background": "light"
     },
     "output_type": "display_data"
    },
    {
     "data": {
      "image/png": "[encoded data removed]",
      "text/plain": [
       "<Figure size 432x288 with 1 Axes>"
      ]
     },
     "metadata": {
      "needs_background": "light"
     },
     "output_type": "display_data"
    }
   ],
   "source": [
    "sns.regplot(x= 'Infant_mortality', y=\"Happiness_Score\", data=df_happy,color='y');\n",
    "plt.show();\n",
    "sns.regplot(x= \"GDP\", y=\"Happiness_Score\", data=df_happy); #log_gdp\n",
    "plt.show();\n",
    "sns.regplot(x= 'Birthrate', y=\"Happiness_Score\", data=df_happy, color=\"r\");\n",
    "plt.show();\n",
    "sns.regplot(x= 'Literacy', y=\"Happiness_Score\", data=df_happy);\n",
    "plt.show();"
   ]
  },
  {
   "cell_type": "markdown",
   "metadata": {},
   "source": [
    "I will check if adding GINI coeeficient can improve the model. I will scrape this information"
   ]
  },
  {
   "cell_type": "code",
   "execution_count": 62,
   "metadata": {},
   "outputs": [],
   "source": [
    "from bs4 import BeautifulSoup\n",
    "import requests\n",
    "import re"
   ]
  },
  {
   "cell_type": "code",
   "execution_count": 63,
   "metadata": {},
   "outputs": [],
   "source": [
    "#requesting information from indexmundi.com for the list of World Gini Coefficient \n",
    "html_page = requests.get('https://www.indexmundi.com/facts/indicators/SI.POV.GINI/rankings')\n",
    "#using the html parser of Beutiful Soup\n",
    "soup = BeautifulSoup(html_page.content, 'html.parser')"
   ]
  },
  {
   "cell_type": "code",
   "execution_count": 64,
   "metadata": {},
   "outputs": [],
   "source": [
    "#writnin a function to parse the page information:\n",
    "def get_text():\n",
    "    #scrape all tags with ('table')\n",
    "    titles = soup.find_all('table')  \n",
    "    countries = []\n",
    "    for i in range(len(titles)):\n",
    "        \n",
    "        texts = titles[i].get_text()\n",
    "        \n",
    "        countries.append(texts)\n",
    "    return countries"
   ]
  },
  {
   "cell_type": "code",
   "execution_count": 65,
   "metadata": {},
   "outputs": [
    {
     "data": {
      "text/plain": [
       "['1',\n",
       " 'South Africa',\n",
       " '63.40',\n",
       " '2011',\n",
       " '2',\n",
       " 'Namibia',\n",
       " '61.00',\n",
       " '2009',\n",
       " '3',\n",
       " 'Botswana']"
      ]
     },
     "execution_count": 65,
     "metadata": {},
     "output_type": "execute_result"
    }
   ],
   "source": [
    "list1=get_text()\n",
    "list1= list1[0].split('\\n') \n",
    "list1= list(filter(None, list1))\n",
    "list1.remove('Rank')\n",
    "list1.remove('Country')\n",
    "list1.remove('Value')\n",
    "list1.remove('Year')\n",
    "list1[0:10]"
   ]
  },
  {
   "cell_type": "code",
   "execution_count": 66,
   "metadata": {},
   "outputs": [
    {
     "data": {
      "text/plain": [
       "['South Africa', '63.40', '2011', 'Namibia', '61.00']"
      ]
     },
     "execution_count": 66,
     "metadata": {},
     "output_type": "execute_result"
    }
   ],
   "source": [
    "#erasing every 4th elemnt in list. I would like to stay only with countries and GINI\n",
    "del list1[0::4]\n",
    "list1[0:5]"
   ]
  },
  {
   "cell_type": "code",
   "execution_count": 67,
   "metadata": {},
   "outputs": [
    {
     "data": {
      "text/plain": [
       "['South Africa', '63.40', 'Namibia', '61.00', 'Botswana']"
      ]
     },
     "execution_count": 67,
     "metadata": {},
     "output_type": "execute_result"
    }
   ],
   "source": [
    "#erasing every 3th element in list\n",
    "del list1[2::3]\n",
    "list1[0:5]"
   ]
  },
  {
   "cell_type": "code",
   "execution_count": 68,
   "metadata": {},
   "outputs": [
    {
     "data": {
      "text/plain": [
       "{'South Africa': '63.40',\n",
       " 'Namibia': '61.00',\n",
       " 'Botswana': '60.50',\n",
       " 'Suriname': '57.60',\n",
       " 'Zambia': '57.10',\n",
       " 'Central African Republic': '56.20',\n",
       " 'Lesotho': '54.20',\n",
       " 'Belize': '53.30',\n",
       " 'Swaziland': '51.50',\n",
       " 'Brazil': '51.30',\n",
       " 'Colombia': '51.10',\n",
       " 'Panama': '51.00',\n",
       " 'Guinea-Bissau': '50.70',\n",
       " 'Rwanda': '50.40',\n",
       " 'Honduras': '50.10',\n",
       " 'Congo': '48.90',\n",
       " 'Guatemala': '48.70',\n",
       " 'Kenya': '48.50',\n",
       " 'Costa Rica': '48.20',\n",
       " 'Mexico': '48.20',\n",
       " 'Paraguay': '48.00',\n",
       " 'Benin': '47.80',\n",
       " 'Chile': '47.70',\n",
       " 'The Gambia': '47.30',\n",
       " 'Cabo Verde': '47.20',\n",
       " 'Venezuela': '46.90',\n",
       " 'Seychelles': '46.80',\n",
       " 'Nicaragua': '46.60',\n",
       " 'Cameroon': '46.50',\n",
       " 'Ecuador': '46.50',\n",
       " 'Malaysia': '46.30',\n",
       " 'Malawi': '46.10',\n",
       " 'Bolivia': '45.80',\n",
       " 'Mozambique': '45.60',\n",
       " 'Jamaica': '45.50',\n",
       " 'Comoros': '45.00',\n",
       " 'Dominican Republic': '44.90',\n",
       " 'Guyana': '44.50',\n",
       " 'Peru': '44.30',\n",
       " 'Djibouti': '44.10',\n",
       " 'Chad': '43.30',\n",
       " 'Zimbabwe': '43.20',\n",
       " 'Togo': '43.00',\n",
       " 'Nigeria': '43.00',\n",
       " 'Madagascar': '42.70',\n",
       " 'Angola': '42.70',\n",
       " 'Argentina': '42.70',\n",
       " 'St. Lucia': '42.60',\n",
       " 'Gabon': '42.20',\n",
       " 'China': '42.20',\n",
       " 'Ghana': '42.20',\n",
       " 'Dem. Rep. Congo': '42.10',\n",
       " 'Samoa': '42.00',\n",
       " 'Papua New Guinea': '41.80',\n",
       " \"Côte d'Ivoire\": '41.70',\n",
       " 'Uruguay': '41.70',\n",
       " 'Israel': '41.40',\n",
       " 'Turkey': '41.20',\n",
       " 'Uganda': '41.00',\n",
       " 'United States': '41.00',\n",
       " 'Haiti': '40.90',\n",
       " 'El Salvador': '40.80',\n",
       " 'Turkmenistan': '40.80',\n",
       " 'Morocco': '40.70',\n",
       " 'Senegal': '40.30',\n",
       " 'Trinidad and Tobago': '40.30',\n",
       " 'Philippines': '40.10',\n",
       " 'Indonesia': '39.50',\n",
       " 'Sri Lanka': '39.20',\n",
       " 'Burundi': '39.20',\n",
       " 'Tuvalu': '39.10',\n",
       " 'Iran': '38.80',\n",
       " 'Bhutan': '38.80',\n",
       " 'Georgia': '38.50',\n",
       " 'Myanmar': '38.10',\n",
       " 'Tanzania': '37.80',\n",
       " 'Thailand': '37.80',\n",
       " 'Lithuania': '37.70',\n",
       " 'Russia': '37.70',\n",
       " 'Tonga': '37.50',\n",
       " 'Bulgaria': '37.40',\n",
       " 'Vanuatu': '37.30',\n",
       " 'Solomon Islands': '37.00',\n",
       " 'Kiribati': '37.00',\n",
       " 'Yemen': '36.70',\n",
       " 'Fiji': '36.40',\n",
       " 'Lao PDR': '36.40',\n",
       " 'Spain': '36.00',\n",
       " 'Greece': '35.80',\n",
       " 'Mauritius': '35.80',\n",
       " 'Syrian Arab Republic': '35.80',\n",
       " 'Tunisia': '35.80',\n",
       " 'Cyprus': '35.60',\n",
       " 'Portugal': '35.60',\n",
       " 'Macedonia': '35.60',\n",
       " 'Sudan': '35.40',\n",
       " 'Burkina Faso': '35.30',\n",
       " 'Uzbekistan': '35.30',\n",
       " 'India': '35.20',\n",
       " 'Latvia': '35.10',\n",
       " 'Vietnam': '34.80',\n",
       " 'Australia': '34.70',\n",
       " 'Italy': '34.70',\n",
       " 'Estonia': '34.60',\n",
       " 'United Kingdom': '34.10',\n",
       " 'Canada': '34.00',\n",
       " 'Tajikistan': '34.00',\n",
       " 'Niger': '34.00',\n",
       " 'Sierra Leone': '34.00',\n",
       " 'Bosnia and Herzegovina': '33.80',\n",
       " 'Guinea': '33.70',\n",
       " 'Jordan': '33.70',\n",
       " 'Ethiopia': '33.20',\n",
       " 'Liberia': '33.20',\n",
       " 'Mali': '33.00',\n",
       " 'Nepal': '32.80',\n",
       " 'Switzerland': '32.50',\n",
       " 'Armenia': '32.40',\n",
       " 'Mauritania': '32.40',\n",
       " 'France': '32.30',\n",
       " 'Croatia': '32.20',\n",
       " 'Bangladesh': '32.10',\n",
       " 'Poland': '32.10',\n",
       " 'Japan': '32.10',\n",
       " 'Mongolia': '32.00',\n",
       " 'Montenegro': '31.90',\n",
       " 'Ireland': '31.90',\n",
       " 'Lebanon': '31.80',\n",
       " 'Azerbaijan': '31.80',\n",
       " 'Egypt': '31.80',\n",
       " 'Korea': '31.60',\n",
       " 'Germany': '31.40',\n",
       " 'Luxembourg': '31.20',\n",
       " 'Hungary': '30.90',\n",
       " 'São Tomé and Principe': '30.80',\n",
       " 'Pakistan': '30.70',\n",
       " 'Austria': '30.50',\n",
       " 'Timor-Leste': '30.30',\n",
       " 'Iraq': '29.50',\n",
       " 'Serbia': '29.10',\n",
       " 'Albania': '29.00',\n",
       " 'Kyrgyz Republic': '29.00',\n",
       " 'Netherlands': '28.60',\n",
       " 'Denmark': '28.50',\n",
       " 'Belgium': '28.10',\n",
       " 'Algeria': '27.60',\n",
       " 'Romania': '27.50',\n",
       " 'Sweden': '27.20',\n",
       " 'Moldova': '27.00',\n",
       " 'Finland': '26.80',\n",
       " 'Norway': '26.80',\n",
       " 'Belarus': '26.70',\n",
       " 'Kazakhstan': '26.50',\n",
       " 'Slovak Republic': '26.10',\n",
       " 'Czech Republic': '25.90',\n",
       " 'Slovenia': '25.70',\n",
       " 'Iceland': '25.60',\n",
       " 'Ukraine': '25.50'}"
      ]
     },
     "execution_count": 68,
     "metadata": {},
     "output_type": "execute_result"
    }
   ],
   "source": [
    "#Creating a dictionary from the list\n",
    "import itertools\n",
    "import operator\n",
    "d = dict(itertools.zip_longest(*[iter(list1)] * 2, fillvalue=\"\"))\n",
    "d"
   ]
  },
  {
   "cell_type": "code",
   "execution_count": 69,
   "metadata": {},
   "outputs": [],
   "source": [
    "#creatin pandas dataframe from the dictionary\n",
    "d1 = pd.DataFrame.from_dict(d,orient='index')"
   ]
  },
  {
   "cell_type": "code",
   "execution_count": 70,
   "metadata": {},
   "outputs": [
    {
     "data": {
      "text/html": [
       "<div>\n",
       "<style scoped>\n",
       "    .dataframe tbody tr th:only-of-type {\n",
       "        vertical-align: middle;\n",
       "    }\n",
       "\n",
       "    .dataframe tbody tr th {\n",
       "        vertical-align: top;\n",
       "    }\n",
       "\n",
       "    .dataframe thead th {\n",
       "        text-align: right;\n",
       "    }\n",
       "</style>\n",
       "<table border=\"1\" class=\"dataframe\">\n",
       "  <thead>\n",
       "    <tr style=\"text-align: right;\">\n",
       "      <th></th>\n",
       "      <th>index</th>\n",
       "      <th>0</th>\n",
       "    </tr>\n",
       "  </thead>\n",
       "  <tbody>\n",
       "    <tr>\n",
       "      <th>0</th>\n",
       "      <td>South Africa</td>\n",
       "      <td>63.40</td>\n",
       "    </tr>\n",
       "    <tr>\n",
       "      <th>1</th>\n",
       "      <td>Namibia</td>\n",
       "      <td>61.00</td>\n",
       "    </tr>\n",
       "    <tr>\n",
       "      <th>2</th>\n",
       "      <td>Botswana</td>\n",
       "      <td>60.50</td>\n",
       "    </tr>\n",
       "    <tr>\n",
       "      <th>3</th>\n",
       "      <td>Suriname</td>\n",
       "      <td>57.60</td>\n",
       "    </tr>\n",
       "    <tr>\n",
       "      <th>4</th>\n",
       "      <td>Zambia</td>\n",
       "      <td>57.10</td>\n",
       "    </tr>\n",
       "  </tbody>\n",
       "</table>\n",
       "</div>"
      ],
      "text/plain": [
       "          index      0\n",
       "0  South Africa  63.40\n",
       "1       Namibia  61.00\n",
       "2      Botswana  60.50\n",
       "3      Suriname  57.60\n",
       "4        Zambia  57.10"
      ]
     },
     "execution_count": 70,
     "metadata": {},
     "output_type": "execute_result"
    }
   ],
   "source": [
    "d1 = d1.reset_index()\n",
    "d1.head()"
   ]
  },
  {
   "cell_type": "code",
   "execution_count": 71,
   "metadata": {},
   "outputs": [
    {
     "data": {
      "text/html": [
       "<div>\n",
       "<style scoped>\n",
       "    .dataframe tbody tr th:only-of-type {\n",
       "        vertical-align: middle;\n",
       "    }\n",
       "\n",
       "    .dataframe tbody tr th {\n",
       "        vertical-align: top;\n",
       "    }\n",
       "\n",
       "    .dataframe thead th {\n",
       "        text-align: right;\n",
       "    }\n",
       "</style>\n",
       "<table border=\"1\" class=\"dataframe\">\n",
       "  <thead>\n",
       "    <tr style=\"text-align: right;\">\n",
       "      <th></th>\n",
       "      <th>Country</th>\n",
       "      <th>GINI</th>\n",
       "    </tr>\n",
       "  </thead>\n",
       "  <tbody>\n",
       "    <tr>\n",
       "      <th>0</th>\n",
       "      <td>South Africa</td>\n",
       "      <td>63.40</td>\n",
       "    </tr>\n",
       "    <tr>\n",
       "      <th>1</th>\n",
       "      <td>Namibia</td>\n",
       "      <td>61.00</td>\n",
       "    </tr>\n",
       "  </tbody>\n",
       "</table>\n",
       "</div>"
      ],
      "text/plain": [
       "        Country   GINI\n",
       "0  South Africa  63.40\n",
       "1       Namibia  61.00"
      ]
     },
     "execution_count": 71,
     "metadata": {},
     "output_type": "execute_result"
    }
   ],
   "source": [
    "#renaming the columns\n",
    "d1.columns = ['Country', 'GINI']\n",
    "d1.head(2)"
   ]
  },
  {
   "cell_type": "code",
   "execution_count": 72,
   "metadata": {},
   "outputs": [
    {
     "name": "stdout",
     "output_type": "stream",
     "text": [
      "<class 'pandas.core.frame.DataFrame'>\n",
      "RangeIndex: 158 entries, 0 to 157\n",
      "Data columns (total 2 columns):\n",
      "Country    158 non-null object\n",
      "GINI       158 non-null float64\n",
      "dtypes: float64(1), object(1)\n",
      "memory usage: 2.5+ KB\n"
     ]
    }
   ],
   "source": [
    "#changing the values in the GINI column from strings to floats\n",
    "d1['GINI']= d1['GINI'].astype(float)\n",
    "d1.info()"
   ]
  },
  {
   "cell_type": "code",
   "execution_count": 73,
   "metadata": {},
   "outputs": [
    {
     "data": {
      "text/plain": [
       "125"
      ]
     },
     "execution_count": 73,
     "metadata": {},
     "output_type": "execute_result"
    }
   ],
   "source": [
    "#adding the GINI data to the working Dataframe\n",
    "df_happy = df_happy.merge(d1,on=['Country'], how='inner')\n",
    "len(df_happy)"
   ]
  },
  {
   "cell_type": "code",
   "execution_count": 74,
   "metadata": {},
   "outputs": [
    {
     "name": "stderr",
     "output_type": "stream",
     "text": [
      "C:\\Users\\homer\\Anaconda3\\lib\\site-packages\\scipy\\stats\\stats.py:1713: FutureWarning: Using a non-tuple sequence for multidimensional indexing is deprecated; use `arr[tuple(seq)]` instead of `arr[seq]`. In the future this will be interpreted as an array index, `arr[np.array(seq)]`, which will result either in an error or a different result.\n",
      "  return np.add.reduce(sorted[indexer] * weights, axis=axis) / sumval\n"
     ]
    },
    {
     "data": {
      "image/png": "[encoded data removed]",
      "text/plain": [
       "<Figure size 432x288 with 1 Axes>"
      ]
     },
     "metadata": {
      "needs_background": "light"
     },
     "output_type": "display_data"
    }
   ],
   "source": [
    "sns.regplot(x= 'GINI', y=\"Happiness_Score\", data=df_happy, color='y');"
   ]
  },
  {
   "cell_type": "code",
   "execution_count": 75,
   "metadata": {},
   "outputs": [],
   "source": [
    "#checking the new model with GINI\n",
    "d_regions = 'region_NEAR_EAST+region_SUB_SAHARAN_AFRICA'\n",
    "X = 'scaled_GDP_interact+scaled_Literacy + scaled_Deathrate+GINI+'+d_regions"
   ]
  },
  {
   "cell_type": "code",
   "execution_count": 76,
   "metadata": {},
   "outputs": [
    {
     "data": {
      "text/html": [
       "<table class=\"simpletable\">\n",
       "<caption>OLS Regression Results</caption>\n",
       "<tr>\n",
       "  <th>Dep. Variable:</th>     <td>Happiness_Score</td> <th>  R-squared:         </th> <td>   0.723</td>\n",
       "</tr>\n",
       "<tr>\n",
       "  <th>Model:</th>                   <td>OLS</td>       <th>  Adj. R-squared:    </th> <td>   0.709</td>\n",
       "</tr>\n",
       "<tr>\n",
       "  <th>Method:</th>             <td>Least Squares</td>  <th>  F-statistic:       </th> <td>   51.31</td>\n",
       "</tr>\n",
       "<tr>\n",
       "  <th>Date:</th>             <td>Mon, 22 Apr 2019</td> <th>  Prob (F-statistic):</th> <td>1.26e-30</td>\n",
       "</tr>\n",
       "<tr>\n",
       "  <th>Time:</th>                 <td>13:54:59</td>     <th>  Log-Likelihood:    </th> <td> -112.68</td>\n",
       "</tr>\n",
       "<tr>\n",
       "  <th>No. Observations:</th>      <td>   125</td>      <th>  AIC:               </th> <td>   239.4</td>\n",
       "</tr>\n",
       "<tr>\n",
       "  <th>Df Residuals:</th>          <td>   118</td>      <th>  BIC:               </th> <td>   259.2</td>\n",
       "</tr>\n",
       "<tr>\n",
       "  <th>Df Model:</th>              <td>     6</td>      <th>                     </th>     <td> </td>   \n",
       "</tr>\n",
       "<tr>\n",
       "  <th>Covariance Type:</th>      <td>nonrobust</td>    <th>                     </th>     <td> </td>   \n",
       "</tr>\n",
       "</table>\n",
       "<table class=\"simpletable\">\n",
       "<tr>\n",
       "              <td></td>                 <th>coef</th>     <th>std err</th>      <th>t</th>      <th>P>|t|</th>  <th>[0.025</th>    <th>0.975]</th>  \n",
       "</tr>\n",
       "<tr>\n",
       "  <th>Intercept</th>                 <td>    4.3819</td> <td>    0.356</td> <td>   12.307</td> <td> 0.000</td> <td>    3.677</td> <td>    5.087</td>\n",
       "</tr>\n",
       "<tr>\n",
       "  <th>scaled_GDP_interact</th>       <td>    3.0239</td> <td>    0.348</td> <td>    8.679</td> <td> 0.000</td> <td>    2.334</td> <td>    3.714</td>\n",
       "</tr>\n",
       "<tr>\n",
       "  <th>scaled_Literacy</th>           <td>    0.4038</td> <td>    0.318</td> <td>    1.270</td> <td> 0.207</td> <td>   -0.226</td> <td>    1.033</td>\n",
       "</tr>\n",
       "<tr>\n",
       "  <th>scaled_Deathrate</th>          <td>   -1.2824</td> <td>    0.414</td> <td>   -3.095</td> <td> 0.002</td> <td>   -2.103</td> <td>   -0.462</td>\n",
       "</tr>\n",
       "<tr>\n",
       "  <th>GINI</th>                      <td>    0.0163</td> <td>    0.008</td> <td>    2.052</td> <td> 0.042</td> <td>    0.001</td> <td>    0.032</td>\n",
       "</tr>\n",
       "<tr>\n",
       "  <th>region_NEAR_EAST</th>          <td>   -0.4337</td> <td>    0.246</td> <td>   -1.762</td> <td> 0.081</td> <td>   -0.921</td> <td>    0.054</td>\n",
       "</tr>\n",
       "<tr>\n",
       "  <th>region_SUB_SAHARAN_AFRICA</th> <td>   -0.5641</td> <td>    0.224</td> <td>   -2.519</td> <td> 0.013</td> <td>   -1.007</td> <td>   -0.121</td>\n",
       "</tr>\n",
       "</table>\n",
       "<table class=\"simpletable\">\n",
       "<tr>\n",
       "  <th>Omnibus:</th>       <td> 3.499</td> <th>  Durbin-Watson:     </th> <td>   1.274</td>\n",
       "</tr>\n",
       "<tr>\n",
       "  <th>Prob(Omnibus):</th> <td> 0.174</td> <th>  Jarque-Bera (JB):  </th> <td>   3.535</td>\n",
       "</tr>\n",
       "<tr>\n",
       "  <th>Skew:</th>          <td>-0.390</td> <th>  Prob(JB):          </th> <td>   0.171</td>\n",
       "</tr>\n",
       "<tr>\n",
       "  <th>Kurtosis:</th>      <td> 2.733</td> <th>  Cond. No.          </th> <td>    328.</td>\n",
       "</tr>\n",
       "</table><br/><br/>Warnings:<br/>[1] Standard Errors assume that the covariance matrix of the errors is correctly specified."
      ],
      "text/plain": [
       "<class 'statsmodels.iolib.summary.Summary'>\n",
       "\"\"\"\n",
       "                            OLS Regression Results                            \n",
       "==============================================================================\n",
       "Dep. Variable:        Happiness_Score   R-squared:                       0.723\n",
       "Model:                            OLS   Adj. R-squared:                  0.709\n",
       "Method:                 Least Squares   F-statistic:                     51.31\n",
       "Date:                Mon, 22 Apr 2019   Prob (F-statistic):           1.26e-30\n",
       "Time:                        13:54:59   Log-Likelihood:                -112.68\n",
       "No. Observations:                 125   AIC:                             239.4\n",
       "Df Residuals:                     118   BIC:                             259.2\n",
       "Df Model:                           6                                         \n",
       "Covariance Type:            nonrobust                                         \n",
       "=============================================================================================\n",
       "                                coef    std err          t      P>|t|      [0.025      0.975]\n",
       "---------------------------------------------------------------------------------------------\n",
       "Intercept                     4.3819      0.356     12.307      0.000       3.677       5.087\n",
       "scaled_GDP_interact           3.0239      0.348      8.679      0.000       2.334       3.714\n",
       "scaled_Literacy               0.4038      0.318      1.270      0.207      -0.226       1.033\n",
       "scaled_Deathrate             -1.2824      0.414     -3.095      0.002      -2.103      -0.462\n",
       "GINI                          0.0163      0.008      2.052      0.042       0.001       0.032\n",
       "region_NEAR_EAST             -0.4337      0.246     -1.762      0.081      -0.921       0.054\n",
       "region_SUB_SAHARAN_AFRICA    -0.5641      0.224     -2.519      0.013      -1.007      -0.121\n",
       "==============================================================================\n",
       "Omnibus:                        3.499   Durbin-Watson:                   1.274\n",
       "Prob(Omnibus):                  0.174   Jarque-Bera (JB):                3.535\n",
       "Skew:                          -0.390   Prob(JB):                        0.171\n",
       "Kurtosis:                       2.733   Cond. No.                         328.\n",
       "==============================================================================\n",
       "\n",
       "Warnings:\n",
       "[1] Standard Errors assume that the covariance matrix of the errors is correctly specified.\n",
       "\"\"\""
      ]
     },
     "execution_count": 76,
     "metadata": {},
     "output_type": "execute_result"
    }
   ],
   "source": [
    "lr_model = ols(formula='Happiness_Score ~'+X , data=df_happy).fit()\n",
    "lr_model.summary()"
   ]
  },
  {
   "cell_type": "code",
   "execution_count": 77,
   "metadata": {},
   "outputs": [],
   "source": [
    "#we will check with GINI will work better as polinomial variable. \n",
    "df_happy[\"GINI_S\"] = df_happy[\"GINI\"]**2 +df_happy[\"GINI\"]\n",
    "df_happy['scaled_GINI_S'] = (df_happy['GINI_S']-df_happy['GINI_S'].min())/(df_happy['GINI_S'].max()-df_happy['GINI_S'].min())"
   ]
  },
  {
   "cell_type": "code",
   "execution_count": 78,
   "metadata": {},
   "outputs": [],
   "source": [
    "df_happy['scaled_region_NEAR_EAST'] = (df_happy['region_NEAR_EAST']-df_happy['region_NEAR_EAST'].min())/(df_happy['region_NEAR_EAST'].max()-df_happy['region_NEAR_EAST'].min())\n",
    "df_happy['scaled_region_SUB_SAHARAN_AFRICA'] = (df_happy['region_SUB_SAHARAN_AFRICA']-df_happy['region_SUB_SAHARAN_AFRICA'].min())/(df_happy['region_SUB_SAHARAN_AFRICA'].max()-df_happy['region_SUB_SAHARAN_AFRICA'].min())"
   ]
  },
  {
   "cell_type": "code",
   "execution_count": 79,
   "metadata": {},
   "outputs": [
    {
     "data": {
      "text/html": [
       "<table class=\"simpletable\">\n",
       "<caption>OLS Regression Results</caption>\n",
       "<tr>\n",
       "  <th>Dep. Variable:</th>     <td>Happiness_Score</td> <th>  R-squared:         </th> <td>   0.723</td>\n",
       "</tr>\n",
       "<tr>\n",
       "  <th>Model:</th>                   <td>OLS</td>       <th>  Adj. R-squared:    </th> <td>   0.711</td>\n",
       "</tr>\n",
       "<tr>\n",
       "  <th>Method:</th>             <td>Least Squares</td>  <th>  F-statistic:       </th> <td>   62.08</td>\n",
       "</tr>\n",
       "<tr>\n",
       "  <th>Date:</th>             <td>Mon, 22 Apr 2019</td> <th>  Prob (F-statistic):</th> <td>1.53e-31</td>\n",
       "</tr>\n",
       "<tr>\n",
       "  <th>Time:</th>                 <td>13:54:59</td>     <th>  Log-Likelihood:    </th> <td> -112.68</td>\n",
       "</tr>\n",
       "<tr>\n",
       "  <th>No. Observations:</th>      <td>   125</td>      <th>  AIC:               </th> <td>   237.4</td>\n",
       "</tr>\n",
       "<tr>\n",
       "  <th>Df Residuals:</th>          <td>   119</td>      <th>  BIC:               </th> <td>   254.3</td>\n",
       "</tr>\n",
       "<tr>\n",
       "  <th>Df Model:</th>              <td>     5</td>      <th>                     </th>     <td> </td>   \n",
       "</tr>\n",
       "<tr>\n",
       "  <th>Covariance Type:</th>      <td>nonrobust</td>    <th>                     </th>     <td> </td>   \n",
       "</tr>\n",
       "</table>\n",
       "<table class=\"simpletable\">\n",
       "<tr>\n",
       "                  <td></td>                    <th>coef</th>     <th>std err</th>      <th>t</th>      <th>P>|t|</th>  <th>[0.025</th>    <th>0.975]</th>  \n",
       "</tr>\n",
       "<tr>\n",
       "  <th>Intercept</th>                        <td>    5.0826</td> <td>    0.154</td> <td>   32.956</td> <td> 0.000</td> <td>    4.777</td> <td>    5.388</td>\n",
       "</tr>\n",
       "<tr>\n",
       "  <th>scaled_GDP_interact</th>              <td>    3.2509</td> <td>    0.299</td> <td>   10.870</td> <td> 0.000</td> <td>    2.659</td> <td>    3.843</td>\n",
       "</tr>\n",
       "<tr>\n",
       "  <th>scaled_Deathrate</th>                 <td>   -1.2938</td> <td>    0.411</td> <td>   -3.150</td> <td> 0.002</td> <td>   -2.107</td> <td>   -0.481</td>\n",
       "</tr>\n",
       "<tr>\n",
       "  <th>scaled_GINI_S</th>                    <td>    0.8760</td> <td>    0.304</td> <td>    2.879</td> <td> 0.005</td> <td>    0.273</td> <td>    1.479</td>\n",
       "</tr>\n",
       "<tr>\n",
       "  <th>scaled_region_NEAR_EAST</th>          <td>   -0.4663</td> <td>    0.243</td> <td>   -1.915</td> <td> 0.058</td> <td>   -0.948</td> <td>    0.016</td>\n",
       "</tr>\n",
       "<tr>\n",
       "  <th>scaled_region_SUB_SAHARAN_AFRICA</th> <td>   -0.6815</td> <td>    0.200</td> <td>   -3.401</td> <td> 0.001</td> <td>   -1.078</td> <td>   -0.285</td>\n",
       "</tr>\n",
       "</table>\n",
       "<table class=\"simpletable\">\n",
       "<tr>\n",
       "  <th>Omnibus:</th>       <td> 3.701</td> <th>  Durbin-Watson:     </th> <td>   1.266</td>\n",
       "</tr>\n",
       "<tr>\n",
       "  <th>Prob(Omnibus):</th> <td> 0.157</td> <th>  Jarque-Bera (JB):  </th> <td>   3.703</td>\n",
       "</tr>\n",
       "<tr>\n",
       "  <th>Skew:</th>          <td>-0.412</td> <th>  Prob(JB):          </th> <td>   0.157</td>\n",
       "</tr>\n",
       "<tr>\n",
       "  <th>Kurtosis:</th>      <td> 2.822</td> <th>  Cond. No.          </th> <td>    9.36</td>\n",
       "</tr>\n",
       "</table><br/><br/>Warnings:<br/>[1] Standard Errors assume that the covariance matrix of the errors is correctly specified."
      ],
      "text/plain": [
       "<class 'statsmodels.iolib.summary.Summary'>\n",
       "\"\"\"\n",
       "                            OLS Regression Results                            \n",
       "==============================================================================\n",
       "Dep. Variable:        Happiness_Score   R-squared:                       0.723\n",
       "Model:                            OLS   Adj. R-squared:                  0.711\n",
       "Method:                 Least Squares   F-statistic:                     62.08\n",
       "Date:                Mon, 22 Apr 2019   Prob (F-statistic):           1.53e-31\n",
       "Time:                        13:54:59   Log-Likelihood:                -112.68\n",
       "No. Observations:                 125   AIC:                             237.4\n",
       "Df Residuals:                     119   BIC:                             254.3\n",
       "Df Model:                           5                                         \n",
       "Covariance Type:            nonrobust                                         \n",
       "====================================================================================================\n",
       "                                       coef    std err          t      P>|t|      [0.025      0.975]\n",
       "----------------------------------------------------------------------------------------------------\n",
       "Intercept                            5.0826      0.154     32.956      0.000       4.777       5.388\n",
       "scaled_GDP_interact                  3.2509      0.299     10.870      0.000       2.659       3.843\n",
       "scaled_Deathrate                    -1.2938      0.411     -3.150      0.002      -2.107      -0.481\n",
       "scaled_GINI_S                        0.8760      0.304      2.879      0.005       0.273       1.479\n",
       "scaled_region_NEAR_EAST             -0.4663      0.243     -1.915      0.058      -0.948       0.016\n",
       "scaled_region_SUB_SAHARAN_AFRICA    -0.6815      0.200     -3.401      0.001      -1.078      -0.285\n",
       "==============================================================================\n",
       "Omnibus:                        3.701   Durbin-Watson:                   1.266\n",
       "Prob(Omnibus):                  0.157   Jarque-Bera (JB):                3.703\n",
       "Skew:                          -0.412   Prob(JB):                        0.157\n",
       "Kurtosis:                       2.822   Cond. No.                         9.36\n",
       "==============================================================================\n",
       "\n",
       "Warnings:\n",
       "[1] Standard Errors assume that the covariance matrix of the errors is correctly specified.\n",
       "\"\"\""
      ]
     },
     "execution_count": 79,
     "metadata": {},
     "output_type": "execute_result"
    }
   ],
   "source": [
    "#we will also try the model without the literacy factor and birth_mortality which had relativlely high probability\n",
    "d_regions = 'scaled_region_NEAR_EAST+scaled_region_SUB_SAHARAN_AFRICA'\n",
    "X = 'scaled_GDP_interact+ scaled_Deathrate + scaled_GINI_S+'+ d_regions\n",
    "lr_model = ols(formula='Happiness_Score ~'+X , data=df_happy).fit()\n",
    "lr_model.summary()"
   ]
  },
  {
   "cell_type": "markdown",
   "metadata": {},
   "source": [
    "I was able to get an Adjusted R squared of 0.711 of a model with only 5 variables"
   ]
  },
  {
   "cell_type": "code",
   "execution_count": null,
   "metadata": {},
   "outputs": [],
   "source": [
    "\n"
   ]
  },
  {
   "cell_type": "code",
   "execution_count": 80,
   "metadata": {},
   "outputs": [],
   "source": [
    "model_f= 'Happiness_Score ~ scaled_GDP_interact+ scaled_Deathrate + scaled_GINI_S+scaled_region_NEAR_EAST+scaled_region_SUB_SAHARAN_AFRICA'\n",
    "model = smf.ols(formula=model_f, data=df_happy)\n",
    "model_fit = model.fit()"
   ]
  },
  {
   "cell_type": "code",
   "execution_count": 81,
   "metadata": {},
   "outputs": [],
   "source": [
    "# fitted values (need a constant term for intercept)\n",
    "model_fitted_y = model_fit.fittedvalues\n",
    "\n",
    "# model residuals\n",
    "model_residuals = model_fit.resid\n",
    "\n",
    "# normalized residuals\n",
    "model_norm_residuals = model_fit.get_influence().resid_studentized_internal\n",
    "\n",
    "# absolute squared normalized residuals\n",
    "model_norm_residuals_abs_sqrt = np.sqrt(np.abs(model_norm_residuals))\n",
    "\n",
    "# absolute residuals\n",
    "model_abs_resid = np.abs(model_residuals)"
   ]
  },
  {
   "cell_type": "code",
   "execution_count": 82,
   "metadata": {},
   "outputs": [
    {
     "data": {
      "image/png": "[encoded data removed]",
      "text/plain": [
       "<Figure size 792x504 with 1 Axes>"
      ]
     },
     "metadata": {
      "needs_background": "light"
     },
     "output_type": "display_data"
    }
   ],
   "source": [
    "plot_lm_1 = plt.figure(1)\n",
    "plot_lm_1.set_figheight(7)\n",
    "plot_lm_1.set_figwidth(11)\n",
    "\n",
    "plot_lm_1.axes[0] = sns.residplot(model_fitted_y, 'Happiness_Score', data=df_happy, \n",
    "                          lowess=True, \n",
    "                          scatter_kws={'alpha': 0.8}, \n",
    "                          line_kws={'color': 'red', 'lw': 1.5, 'alpha': 0.8})\n",
    "\n",
    "plot_lm_1.axes[0].set_title('Residuals vs Fitted')\n",
    "plot_lm_1.axes[0].set_xlabel('Fitted values')\n",
    "plot_lm_1.axes[0].set_ylabel('Residuals')\n",
    "\n",
    "# annotations\n",
    "abs_resid = model_abs_resid.sort_values(ascending=False)\n",
    "abs_resid_top_3 = abs_resid[:3]\n",
    "for i in abs_resid_top_3.index:\n",
    "    plot_lm_1.axes[0].annotate(i, \n",
    "                               xy=(model_fitted_y[i], \n",
    "                                   model_residuals[i]));"
   ]
  },
  {
   "cell_type": "code",
   "execution_count": 83,
   "metadata": {
    "scrolled": true
   },
   "outputs": [
    {
     "data": {
      "image/png": "[encoded data removed]",
      "text/plain": [
       "<Figure size 864x576 with 1 Axes>"
      ]
     },
     "metadata": {
      "needs_background": "light"
     },
     "output_type": "display_data"
    }
   ],
   "source": [
    "QQ = ProbPlot(model_norm_residuals)\n",
    "plot_lm_2 = QQ.qqplot(line='45', alpha=0.5, color='#4C72B0', lw=1)\n",
    "\n",
    "plot_lm_2.set_figheight(8)\n",
    "plot_lm_2.set_figwidth(12)\n",
    "\n",
    "plot_lm_2.axes[0].set_title('Normal Q-Q')\n",
    "plot_lm_2.axes[0].set_xlabel('Theoretical Quantiles')\n",
    "plot_lm_2.axes[0].set_ylabel('Standardized Residuals');\n",
    "\n",
    "# annotations\n",
    "abs_norm_resid = np.flip(np.argsort(np.abs(model_norm_residuals)), 0)\n",
    "abs_norm_resid_top_3 = abs_norm_resid[:3]\n",
    "\n",
    "for r, i in enumerate(abs_norm_resid_top_3):\n",
    "    plot_lm_2.axes[0].annotate(i, \n",
    "                               xy=(np.flip(QQ.theoretical_quantiles, 0)[r],\n",
    "                                   model_norm_residuals[i]));"
   ]
  },
  {
   "cell_type": "code",
   "execution_count": null,
   "metadata": {},
   "outputs": [],
   "source": []
  }
 ],
 "metadata": {
  "kernelspec": {
   "display_name": "Python 3",
   "language": "python",
   "name": "python3"
  },
  "language_info": {
   "codemirror_mode": {
    "name": "ipython",
    "version": 3
   },
   "file_extension": ".py",
   "mimetype": "text/x-python",
   "name": "python",
   "nbconvert_exporter": "python",
   "pygments_lexer": "ipython3",
   "version": "3.7.1"
  }
 },
 "nbformat": 4,
 "nbformat_minor": 2
}
